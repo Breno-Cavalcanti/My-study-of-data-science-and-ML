{
 "metadata": {
  "language_info": {
   "codemirror_mode": {
    "name": "ipython",
    "version": 3
   },
   "file_extension": ".py",
   "mimetype": "text/x-python",
   "name": "python",
   "nbconvert_exporter": "python",
   "pygments_lexer": "ipython3",
   "version": "3.7.6-final"
  },
  "orig_nbformat": 2,
  "kernelspec": {
   "name": "python_defaultSpec_1601756402198",
   "display_name": "Python 3.7.6 64-bit ('base')",
   "metadata": {
    "interpreter": {
     "hash": "22845b05a52ecdbe3ee4a3cde9703241b2f25051d5fbb72d4ac7e9504a01a56d"
    }
   }
  }
 },
 "nbformat": 4,
 "nbformat_minor": 2,
 "cells": [
  {
   "cell_type": "code",
   "execution_count": 1,
   "metadata": {},
   "outputs": [],
   "source": [
    "from sklearn.linear_model import LogisticRegression\n",
    "from sklearn.neighbors import KNeighborsClassifier\n",
    "from sklearn.ensemble import RandomForestClassifier\n",
    "from sklearn.model_selection import cross_val_score\n",
    "from sklearn.model_selection import train_test_split\n",
    "from catboost import CatBoostClassifier\n",
    "from sklearn.preprocessing import StandardScaler\n",
    "from sklearn.model_selection import GridSearchCV\n",
    "from sklearn.metrics import accuracy_score\n",
    "from sklearn.pipeline import Pipeline\n",
    "import pandas as pd "
   ]
  },
  {
   "cell_type": "code",
   "execution_count": 2,
   "metadata": {},
   "outputs": [],
   "source": [
    "data = pd.read_csv('data_processed.csv')"
   ]
  },
  {
   "cell_type": "code",
   "execution_count": 3,
   "metadata": {},
   "outputs": [
    {
     "output_type": "execute_result",
     "data": {
      "text/plain": "   absences_left  age_left  absences  age  goout_1  goout_2  goout_3  goout_4  \\\n0              6        18         6   18        0        0        0        1   \n1              4        17         4   17        0        0        1        0   \n2             10        15        10   15        0        1        0        0   \n3              2        15         2   15        0        1        0        0   \n4              4        16         4   16        0        1        0        0   \n\n   goout_5  failures_0  failures_1  failures_2  failures_3  approved  \n0        0           1           0           0           0         0  \n1        0           1           0           0           0         0  \n2        0           0           0           0           1         1  \n3        0           1           0           0           0         1  \n4        0           1           0           0           0         1  ",
      "text/html": "<div>\n<style scoped>\n    .dataframe tbody tr th:only-of-type {\n        vertical-align: middle;\n    }\n\n    .dataframe tbody tr th {\n        vertical-align: top;\n    }\n\n    .dataframe thead th {\n        text-align: right;\n    }\n</style>\n<table border=\"1\" class=\"dataframe\">\n  <thead>\n    <tr style=\"text-align: right;\">\n      <th></th>\n      <th>absences_left</th>\n      <th>age_left</th>\n      <th>absences</th>\n      <th>age</th>\n      <th>goout_1</th>\n      <th>goout_2</th>\n      <th>goout_3</th>\n      <th>goout_4</th>\n      <th>goout_5</th>\n      <th>failures_0</th>\n      <th>failures_1</th>\n      <th>failures_2</th>\n      <th>failures_3</th>\n      <th>approved</th>\n    </tr>\n  </thead>\n  <tbody>\n    <tr>\n      <th>0</th>\n      <td>6</td>\n      <td>18</td>\n      <td>6</td>\n      <td>18</td>\n      <td>0</td>\n      <td>0</td>\n      <td>0</td>\n      <td>1</td>\n      <td>0</td>\n      <td>1</td>\n      <td>0</td>\n      <td>0</td>\n      <td>0</td>\n      <td>0</td>\n    </tr>\n    <tr>\n      <th>1</th>\n      <td>4</td>\n      <td>17</td>\n      <td>4</td>\n      <td>17</td>\n      <td>0</td>\n      <td>0</td>\n      <td>1</td>\n      <td>0</td>\n      <td>0</td>\n      <td>1</td>\n      <td>0</td>\n      <td>0</td>\n      <td>0</td>\n      <td>0</td>\n    </tr>\n    <tr>\n      <th>2</th>\n      <td>10</td>\n      <td>15</td>\n      <td>10</td>\n      <td>15</td>\n      <td>0</td>\n      <td>1</td>\n      <td>0</td>\n      <td>0</td>\n      <td>0</td>\n      <td>0</td>\n      <td>0</td>\n      <td>0</td>\n      <td>1</td>\n      <td>1</td>\n    </tr>\n    <tr>\n      <th>3</th>\n      <td>2</td>\n      <td>15</td>\n      <td>2</td>\n      <td>15</td>\n      <td>0</td>\n      <td>1</td>\n      <td>0</td>\n      <td>0</td>\n      <td>0</td>\n      <td>1</td>\n      <td>0</td>\n      <td>0</td>\n      <td>0</td>\n      <td>1</td>\n    </tr>\n    <tr>\n      <th>4</th>\n      <td>4</td>\n      <td>16</td>\n      <td>4</td>\n      <td>16</td>\n      <td>0</td>\n      <td>1</td>\n      <td>0</td>\n      <td>0</td>\n      <td>0</td>\n      <td>1</td>\n      <td>0</td>\n      <td>0</td>\n      <td>0</td>\n      <td>1</td>\n    </tr>\n  </tbody>\n</table>\n</div>"
     },
     "metadata": {},
     "execution_count": 3
    }
   ],
   "source": [
    "data.head()"
   ]
  },
  {
   "cell_type": "code",
   "execution_count": 4,
   "metadata": {},
   "outputs": [],
   "source": [
    "x = data.iloc[:, 2:-1]\n",
    "y = data.iloc[:, -1]"
   ]
  },
  {
   "cell_type": "code",
   "execution_count": 5,
   "metadata": {
    "tags": []
   },
   "outputs": [
    {
     "output_type": "stream",
     "name": "stdout",
     "text": "So with Logist Regression(with out tuning) i expect the accuracy the will be between: [58.16%,83.57%]\nBut the real accuracy is(with out tuning): 72.15%\n"
    }
   ],
   "source": [
    "logistic_regression = LogisticRegression()\n",
    "results = cross_val_score(logistic_regression, x , y , cv = 10)\n",
    "\n",
    "minimum_value = results.mean() - 2 * results.std()\n",
    "minimum_value = (minimum_value * 100).round(2)\n",
    "\n",
    " \n",
    "\n",
    "maximum_value = results.mean() + 2 * results.std()\n",
    "maximum_value = (maximum_value * 100).round(2)\n",
    "\n",
    "print(f'So with Logist Regression(with out tuning) i expect the accuracy the will be between: [{minimum_value}%,{maximum_value}%]')\n",
    "logistic_regression.fit(x, y)\n",
    "y_pred = logistic_regression.predict(x)\n",
    "accuracy_real = accuracy_score(y, y_pred) * 100\n",
    "print(f'But the real accuracy is(with out tuning): {accuracy_real.round(2)}%')"
   ]
  },
  {
   "cell_type": "code",
   "execution_count": 18,
   "metadata": {
    "tags": []
   },
   "outputs": [
    {
     "output_type": "stream",
     "name": "stdout",
     "text": "So with Logist Regression(with tuning) i expect the accuracy the will be between:[63.73% , 78.55%]\nBut the real accuracy is(with tuning): 72.41%\n"
    }
   ],
   "source": [
    "params = {\n",
    "    'logist_regression__tol': [1e-4,1e-5,1e-3],\n",
    "    'logist_regression__max_iter': [100,150,200,1000],\n",
    "   'logist_regression__multi_class': ['ovr','multinomial','auto'], \n",
    "}\n",
    "\n",
    "logistic_regression = LogisticRegression()\n",
    "pipeline_lr = Pipeline([('scaler',  StandardScaler()), ('logist_regression', LogisticRegression())])\n",
    "\n",
    "results = GridSearchCV(pipeline_lr, params, cv = 5, return_train_score=True, verbose=0)\n",
    "results.fit(x,y)\n",
    "logistic_regression = results.best_estimator_\n",
    "\n",
    "results = pd.DataFrame(results.cv_results_)\n",
    "results_sorted = results.sort_values('mean_test_score', ascending= False)\n",
    "for index, row in results_sorted.head(1).iterrows():\n",
    "  print(\"So with Logist Regression(with tuning) i expect the accuracy the will be between:[%.2f%% , %.2f%%]\" % ((row.mean_test_score - row.std_test_score * 2) * 100, (row.mean_test_score + row.std_test_score * 2) * 100))\n",
    "\n",
    "logistic_regression.fit(x,y)\n",
    "y_pred = logistic_regression.predict(x)\n",
    "accuracy_real = accuracy_score(y, y_pred) * 100\n",
    "print(f'But the real accuracy is(with tuning): {accuracy_real.round(2)}%')"
   ]
  },
  {
   "cell_type": "code",
   "execution_count": 19,
   "metadata": {
    "tags": []
   },
   "outputs": [
    {
     "output_type": "stream",
     "name": "stdout",
     "text": "So with Knn(with out tuning) i expect the accuracy the will be between: [57.02%,78.68%]\nBut the real accuracy is(with out tuning): 78.48%\n"
    }
   ],
   "source": [
    "knn = KNeighborsClassifier()\n",
    "results = cross_val_score(knn, x , y , cv = 10)\n",
    "\n",
    "minimum_value = results.mean() - 2 * results.std()\n",
    "minimum_value = (minimum_value * 100).round(2)\n",
    "results = cross_val_score(knn, x , y , cv = 10)\n",
    "\n",
    " \n",
    "\n",
    "maximum_value = results.mean() + 2 * results.std()\n",
    "maximum_value = (maximum_value * 100).round(2)\n",
    "\n",
    "print(f'So with Knn(with out tuning) i expect the accuracy the will be between: [{minimum_value}%,{maximum_value}%]')\n",
    "knn.fit(x, y)\n",
    "y_pred = knn.predict(x)\n",
    "accuracy_real = accuracy_score(y, y_pred) * 100\n",
    "print(f'But the real accuracy is(with out tuning): {accuracy_real.round(2)}%')"
   ]
  },
  {
   "cell_type": "code",
   "execution_count": 23,
   "metadata": {
    "tags": []
   },
   "outputs": [
    {
     "output_type": "stream",
     "name": "stdout",
     "text": "So with Logist Regression(with tuning) i expect the accuracy the will be between:[64.35% , 80.41%]\nBut the real accuracy is(with tuning): 75.44%\n"
    }
   ],
   "source": [
    "params = {\n",
    "    'knnClassifier__n_neighbors': range(5,35),\n",
    "    'knnClassifier__weights': ['uniform','distance'],\n",
    "    'knnClassifier__leaf_size': range(30,50)\n",
    "}\n",
    "\n",
    "knn = KNeighborsClassifier()\n",
    "pipeline_knn = Pipeline([('scaler',  StandardScaler()), ('knnClassifier', KNeighborsClassifier())])\n",
    "\n",
    "results = GridSearchCV(pipeline_knn, params, cv = 10, return_train_score=True, verbose=0)\n",
    "results.fit(x,y)\n",
    "knn = results.best_estimator_\n",
    "\n",
    "results = pd.DataFrame(results.cv_results_)\n",
    "results_sorted = results.sort_values('mean_test_score', ascending= False)\n",
    "for index, row in results_sorted.head(1).iterrows():\n",
    "  print(\"So with Logist Regression(with tuning) i expect the accuracy the will be between:[%.2f%% , %.2f%%]\" % ((row.mean_test_score - row.std_test_score * 2) * 100, (row.mean_test_score + row.std_test_score * 2) * 100))\n",
    "\n",
    "knn.fit(x,y)\n",
    "y_pred = knn.predict(x)\n",
    "accuracy_real = accuracy_score(y, y_pred) * 100\n",
    "print(f'But the real accuracy is(with tuning): {accuracy_real.round(2)}%')"
   ]
  },
  {
   "cell_type": "code",
   "execution_count": 24,
   "metadata": {
    "tags": []
   },
   "outputs": [
    {
     "output_type": "stream",
     "name": "stdout",
     "text": "So with Random Forest(with out tuning) i expect the accuracy the will be between: [53.25%,83.32%]\nBut the real accuracy is: 89.62%\n"
    }
   ],
   "source": [
    "forest = RandomForestClassifier()\n",
    "results = cross_val_score(forest, x , y , cv = 10)\n",
    "minimum_value = results.mean() - 2 * results.std()\n",
    "minimum_value = (minimum_value * 100).round(2)\n",
    "\n",
    " \n",
    "\n",
    "maximum_value = results.mean() + 2 * results.std()\n",
    "maximum_value = (maximum_value * 100).round(2)\n",
    "\n",
    "print(f'So with Random Forest(with out tuning) i expect the accuracy the will be between: [{minimum_value}%,{maximum_value}%]')\n",
    "\n",
    "forest.fit(x, y)\n",
    "y_pred = forest.predict(x)\n",
    "accuracy_real = accuracy_score(y, y_pred) * 100\n",
    "print(f'But the real accuracy is: {accuracy_real.round(2)}%')"
   ]
  },
  {
   "cell_type": "code",
   "execution_count": 25,
   "metadata": {
    "tags": []
   },
   "outputs": [
    {
     "output_type": "stream",
     "name": "stdout",
     "text": "So with random forest(with tuning) i expect the accuracy the will be between:[65.06%, 83.28%]\nBut the real accuracy is(with tuning): 79.49%\n"
    }
   ],
   "source": [
    "params = {\n",
    "    'random_forest__n_estimators': [50, 70, 90,100,150,200,250],\n",
    "    'random_forest__criterion': ['gini','entropy'],\n",
    "    'random_forest__max_depth': [30,70,80,90, None],\n",
    "    'random_forest__min_samples_leaf': [1,2,4,6,8],\n",
    "    'random_forest__max_leaf_nodes' : [10,20,30, None]\n",
    "}\n",
    "pipeline_random_forest = Pipeline([('scaler',  StandardScaler()), ('random_forest', RandomForestClassifier())])\n",
    "\n",
    "forest = RandomForestClassifier()\n",
    "results = GridSearchCV(pipeline_random_forest, params, cv = 10)\n",
    "results.fit(x,y)\n",
    "forest = results.best_estimator_\n",
    "results = pd.DataFrame(results.cv_results_)\n",
    "results_sorted = results.sort_values('mean_test_score', ascending= False)\n",
    "for index, row in results_sorted.head(1).iterrows():\n",
    "  print(\"So with random forest(with tuning) i expect the accuracy the will be between:[%.2f%%, %.2f%%]\" % ((row.mean_test_score - row.std_test_score * 2) * 100, (row.mean_test_score + row.std_test_score * 2)* 100))\n",
    "\n",
    "forest.fit(x,y)\n",
    "y_pred = forest.predict(x)\n",
    "accuracy_real = accuracy_score(y, y_pred) * 100\n",
    "print(f'But the real accuracy is(with tuning): {accuracy_real.round(2)}%')"
   ]
  },
  {
   "cell_type": "code",
   "execution_count": 11,
   "metadata": {
    "tags": [
     "outputPrepend"
    ]
   },
   "outputs": [
    {
     "output_type": "stream",
     "name": "stdout",
     "text": "4\ttotal: 1.09s\tremaining: 683ms\n616:\tlearn: 0.4257508\ttotal: 1.1s\tremaining: 681ms\n617:\tlearn: 0.4256383\ttotal: 1.1s\tremaining: 679ms\n618:\tlearn: 0.4252162\ttotal: 1.1s\tremaining: 677ms\n619:\tlearn: 0.4251086\ttotal: 1.1s\tremaining: 675ms\n620:\tlearn: 0.4250703\ttotal: 1.1s\tremaining: 672ms\n621:\tlearn: 0.4249762\ttotal: 1.1s\tremaining: 670ms\n622:\tlearn: 0.4246661\ttotal: 1.1s\tremaining: 668ms\n623:\tlearn: 0.4242352\ttotal: 1.11s\tremaining: 667ms\n624:\tlearn: 0.4240702\ttotal: 1.11s\tremaining: 664ms\n625:\tlearn: 0.4240294\ttotal: 1.12s\tremaining: 668ms\n626:\tlearn: 0.4239959\ttotal: 1.12s\tremaining: 666ms\n627:\tlearn: 0.4239851\ttotal: 1.12s\tremaining: 664ms\n628:\tlearn: 0.4238054\ttotal: 1.12s\tremaining: 662ms\n629:\tlearn: 0.4237818\ttotal: 1.12s\tremaining: 660ms\n630:\tlearn: 0.4237589\ttotal: 1.12s\tremaining: 658ms\n631:\tlearn: 0.4236670\ttotal: 1.13s\tremaining: 656ms\n632:\tlearn: 0.4235999\ttotal: 1.13s\tremaining: 654ms\n633:\tlearn: 0.4234884\ttotal: 1.13s\tremaining: 652ms\n634:\tlearn: 0.4234237\ttotal: 1.13s\tremaining: 649ms\n635:\tlearn: 0.4232603\ttotal: 1.13s\tremaining: 647ms\n636:\tlearn: 0.4230780\ttotal: 1.13s\tremaining: 646ms\n637:\tlearn: 0.4230528\ttotal: 1.14s\tremaining: 646ms\n638:\tlearn: 0.4228727\ttotal: 1.14s\tremaining: 644ms\n639:\tlearn: 0.4227979\ttotal: 1.14s\tremaining: 642ms\n640:\tlearn: 0.4225477\ttotal: 1.14s\tremaining: 641ms\n641:\tlearn: 0.4225117\ttotal: 1.15s\tremaining: 639ms\n642:\tlearn: 0.4224975\ttotal: 1.15s\tremaining: 637ms\n643:\tlearn: 0.4223981\ttotal: 1.15s\tremaining: 635ms\n644:\tlearn: 0.4223887\ttotal: 1.15s\tremaining: 636ms\n645:\tlearn: 0.4223156\ttotal: 1.16s\tremaining: 635ms\n646:\tlearn: 0.4221757\ttotal: 1.16s\tremaining: 633ms\n647:\tlearn: 0.4220754\ttotal: 1.16s\tremaining: 631ms\n648:\tlearn: 0.4218527\ttotal: 1.16s\tremaining: 629ms\n649:\tlearn: 0.4218098\ttotal: 1.16s\tremaining: 627ms\n650:\tlearn: 0.4217276\ttotal: 1.17s\tremaining: 625ms\n651:\tlearn: 0.4216078\ttotal: 1.17s\tremaining: 623ms\n652:\tlearn: 0.4215791\ttotal: 1.17s\tremaining: 621ms\n653:\tlearn: 0.4213238\ttotal: 1.17s\tremaining: 619ms\n654:\tlearn: 0.4211697\ttotal: 1.18s\tremaining: 620ms\n655:\tlearn: 0.4209399\ttotal: 1.18s\tremaining: 619ms\n656:\tlearn: 0.4209163\ttotal: 1.18s\tremaining: 617ms\n657:\tlearn: 0.4208690\ttotal: 1.19s\tremaining: 617ms\n658:\tlearn: 0.4205515\ttotal: 1.19s\tremaining: 616ms\n659:\tlearn: 0.4204960\ttotal: 1.19s\tremaining: 614ms\n660:\tlearn: 0.4202907\ttotal: 1.19s\tremaining: 612ms\n661:\tlearn: 0.4200282\ttotal: 1.19s\tremaining: 610ms\n662:\tlearn: 0.4199673\ttotal: 1.2s\tremaining: 608ms\n663:\tlearn: 0.4198509\ttotal: 1.2s\tremaining: 605ms\n664:\tlearn: 0.4197086\ttotal: 1.2s\tremaining: 603ms\n665:\tlearn: 0.4193517\ttotal: 1.2s\tremaining: 601ms\n666:\tlearn: 0.4191476\ttotal: 1.2s\tremaining: 600ms\n667:\tlearn: 0.4191081\ttotal: 1.2s\tremaining: 598ms\n668:\tlearn: 0.4189391\ttotal: 1.2s\tremaining: 596ms\n669:\tlearn: 0.4186871\ttotal: 1.21s\tremaining: 594ms\n670:\tlearn: 0.4185935\ttotal: 1.21s\tremaining: 593ms\n671:\tlearn: 0.4185925\ttotal: 1.21s\tremaining: 590ms\n672:\tlearn: 0.4185320\ttotal: 1.21s\tremaining: 588ms\n673:\tlearn: 0.4184294\ttotal: 1.21s\tremaining: 586ms\n674:\tlearn: 0.4184112\ttotal: 1.21s\tremaining: 584ms\n675:\tlearn: 0.4183920\ttotal: 1.21s\tremaining: 582ms\n676:\tlearn: 0.4182080\ttotal: 1.22s\tremaining: 582ms\n677:\tlearn: 0.4180282\ttotal: 1.22s\tremaining: 580ms\n678:\tlearn: 0.4179284\ttotal: 1.22s\tremaining: 578ms\n679:\tlearn: 0.4178190\ttotal: 1.22s\tremaining: 576ms\n680:\tlearn: 0.4175653\ttotal: 1.22s\tremaining: 574ms\n681:\tlearn: 0.4173585\ttotal: 1.23s\tremaining: 572ms\n682:\tlearn: 0.4173436\ttotal: 1.23s\tremaining: 570ms\n683:\tlearn: 0.4172435\ttotal: 1.23s\tremaining: 568ms\n684:\tlearn: 0.4169444\ttotal: 1.23s\tremaining: 566ms\n685:\tlearn: 0.4168475\ttotal: 1.24s\tremaining: 566ms\n686:\tlearn: 0.4166810\ttotal: 1.24s\tremaining: 563ms\n687:\tlearn: 0.4166190\ttotal: 1.24s\tremaining: 561ms\n688:\tlearn: 0.4165616\ttotal: 1.24s\tremaining: 559ms\n689:\tlearn: 0.4164252\ttotal: 1.24s\tremaining: 557ms\n690:\tlearn: 0.4163684\ttotal: 1.24s\tremaining: 555ms\n691:\tlearn: 0.4163610\ttotal: 1.24s\tremaining: 553ms\n692:\tlearn: 0.4160014\ttotal: 1.24s\tremaining: 551ms\n693:\tlearn: 0.4158175\ttotal: 1.24s\tremaining: 549ms\n694:\tlearn: 0.4157843\ttotal: 1.25s\tremaining: 547ms\n695:\tlearn: 0.4156983\ttotal: 1.25s\tremaining: 546ms\n696:\tlearn: 0.4156820\ttotal: 1.25s\tremaining: 544ms\n697:\tlearn: 0.4152809\ttotal: 1.25s\tremaining: 542ms\n698:\tlearn: 0.4151668\ttotal: 1.25s\tremaining: 540ms\n699:\tlearn: 0.4148537\ttotal: 1.25s\tremaining: 538ms\n700:\tlearn: 0.4145552\ttotal: 1.25s\tremaining: 536ms\n701:\tlearn: 0.4145470\ttotal: 1.26s\tremaining: 534ms\n702:\tlearn: 0.4144017\ttotal: 1.26s\tremaining: 532ms\n703:\tlearn: 0.4143549\ttotal: 1.26s\tremaining: 530ms\n704:\tlearn: 0.4140858\ttotal: 1.27s\tremaining: 530ms\n705:\tlearn: 0.4140571\ttotal: 1.27s\tremaining: 529ms\n706:\tlearn: 0.4139056\ttotal: 1.27s\tremaining: 527ms\n707:\tlearn: 0.4138191\ttotal: 1.27s\tremaining: 525ms\n708:\tlearn: 0.4136668\ttotal: 1.27s\tremaining: 523ms\n709:\tlearn: 0.4136153\ttotal: 1.28s\tremaining: 521ms\n710:\tlearn: 0.4135287\ttotal: 1.28s\tremaining: 520ms\n711:\tlearn: 0.4134362\ttotal: 1.28s\tremaining: 518ms\n712:\tlearn: 0.4133342\ttotal: 1.28s\tremaining: 516ms\n713:\tlearn: 0.4128509\ttotal: 1.28s\tremaining: 514ms\n714:\tlearn: 0.4127892\ttotal: 1.28s\tremaining: 513ms\n715:\tlearn: 0.4126306\ttotal: 1.29s\tremaining: 511ms\n716:\tlearn: 0.4125216\ttotal: 1.29s\tremaining: 508ms\n717:\tlearn: 0.4122890\ttotal: 1.29s\tremaining: 506ms\n718:\tlearn: 0.4121521\ttotal: 1.29s\tremaining: 504ms\n719:\tlearn: 0.4120292\ttotal: 1.29s\tremaining: 502ms\n720:\tlearn: 0.4119832\ttotal: 1.29s\tremaining: 500ms\n721:\tlearn: 0.4119180\ttotal: 1.3s\tremaining: 500ms\n722:\tlearn: 0.4118319\ttotal: 1.3s\tremaining: 500ms\n723:\tlearn: 0.4117612\ttotal: 1.3s\tremaining: 498ms\n724:\tlearn: 0.4117395\ttotal: 1.31s\tremaining: 496ms\n725:\tlearn: 0.4116614\ttotal: 1.31s\tremaining: 496ms\n726:\tlearn: 0.4114443\ttotal: 1.32s\tremaining: 495ms\n727:\tlearn: 0.4114295\ttotal: 1.32s\tremaining: 493ms\n728:\tlearn: 0.4112523\ttotal: 1.32s\tremaining: 491ms\n729:\tlearn: 0.4112363\ttotal: 1.32s\tremaining: 489ms\n730:\tlearn: 0.4111379\ttotal: 1.32s\tremaining: 487ms\n731:\tlearn: 0.4110162\ttotal: 1.32s\tremaining: 485ms\n732:\tlearn: 0.4108059\ttotal: 1.33s\tremaining: 484ms\n733:\tlearn: 0.4107020\ttotal: 1.33s\tremaining: 482ms\n734:\tlearn: 0.4105747\ttotal: 1.33s\tremaining: 480ms\n735:\tlearn: 0.4104134\ttotal: 1.33s\tremaining: 478ms\n736:\tlearn: 0.4103309\ttotal: 1.33s\tremaining: 476ms\n737:\tlearn: 0.4103084\ttotal: 1.33s\tremaining: 474ms\n738:\tlearn: 0.4102513\ttotal: 1.34s\tremaining: 472ms\n739:\tlearn: 0.4102243\ttotal: 1.34s\tremaining: 470ms\n740:\tlearn: 0.4101513\ttotal: 1.34s\tremaining: 470ms\n741:\tlearn: 0.4100443\ttotal: 1.34s\tremaining: 468ms\n742:\tlearn: 0.4098868\ttotal: 1.35s\tremaining: 466ms\n743:\tlearn: 0.4097937\ttotal: 1.35s\tremaining: 464ms\n744:\tlearn: 0.4097075\ttotal: 1.35s\tremaining: 462ms\n745:\tlearn: 0.4095956\ttotal: 1.35s\tremaining: 460ms\n746:\tlearn: 0.4094710\ttotal: 1.35s\tremaining: 458ms\n747:\tlearn: 0.4094648\ttotal: 1.35s\tremaining: 456ms\n748:\tlearn: 0.4093328\ttotal: 1.35s\tremaining: 454ms\n749:\tlearn: 0.4092278\ttotal: 1.36s\tremaining: 453ms\n750:\tlearn: 0.4090874\ttotal: 1.36s\tremaining: 451ms\n751:\tlearn: 0.4089789\ttotal: 1.36s\tremaining: 449ms\n752:\tlearn: 0.4089259\ttotal: 1.36s\tremaining: 447ms\n753:\tlearn: 0.4087844\ttotal: 1.36s\tremaining: 446ms\n754:\tlearn: 0.4086981\ttotal: 1.37s\tremaining: 444ms\n755:\tlearn: 0.4086340\ttotal: 1.37s\tremaining: 442ms\n756:\tlearn: 0.4085544\ttotal: 1.37s\tremaining: 440ms\n757:\tlearn: 0.4083958\ttotal: 1.37s\tremaining: 438ms\n758:\tlearn: 0.4082372\ttotal: 1.37s\tremaining: 436ms\n759:\tlearn: 0.4081987\ttotal: 1.38s\tremaining: 435ms\n760:\tlearn: 0.4081045\ttotal: 1.38s\tremaining: 433ms\n761:\tlearn: 0.4078034\ttotal: 1.38s\tremaining: 431ms\n762:\tlearn: 0.4076612\ttotal: 1.38s\tremaining: 429ms\n763:\tlearn: 0.4074808\ttotal: 1.38s\tremaining: 427ms\n764:\tlearn: 0.4074108\ttotal: 1.38s\tremaining: 425ms\n765:\tlearn: 0.4073465\ttotal: 1.38s\tremaining: 423ms\n766:\tlearn: 0.4071273\ttotal: 1.39s\tremaining: 422ms\n767:\tlearn: 0.4069973\ttotal: 1.39s\tremaining: 421ms\n768:\tlearn: 0.4068100\ttotal: 1.39s\tremaining: 419ms\n769:\tlearn: 0.4066539\ttotal: 1.39s\tremaining: 417ms\n770:\tlearn: 0.4065542\ttotal: 1.4s\tremaining: 415ms\n771:\tlearn: 0.4065435\ttotal: 1.4s\tremaining: 413ms\n772:\tlearn: 0.4065407\ttotal: 1.4s\tremaining: 410ms\n773:\tlearn: 0.4065095\ttotal: 1.4s\tremaining: 408ms\n774:\tlearn: 0.4063701\ttotal: 1.4s\tremaining: 407ms\n775:\tlearn: 0.4063121\ttotal: 1.4s\tremaining: 405ms\n776:\tlearn: 0.4061457\ttotal: 1.4s\tremaining: 403ms\n777:\tlearn: 0.4060993\ttotal: 1.41s\tremaining: 401ms\n778:\tlearn: 0.4057145\ttotal: 1.41s\tremaining: 399ms\n779:\tlearn: 0.4056428\ttotal: 1.41s\tremaining: 397ms\n780:\tlearn: 0.4055971\ttotal: 1.41s\tremaining: 395ms\n781:\tlearn: 0.4053746\ttotal: 1.41s\tremaining: 394ms\n782:\tlearn: 0.4052997\ttotal: 1.41s\tremaining: 392ms\n783:\tlearn: 0.4051213\ttotal: 1.41s\tremaining: 390ms\n784:\tlearn: 0.4051090\ttotal: 1.42s\tremaining: 388ms\n785:\tlearn: 0.4050962\ttotal: 1.42s\tremaining: 386ms\n786:\tlearn: 0.4049412\ttotal: 1.42s\tremaining: 384ms\n787:\tlearn: 0.4048594\ttotal: 1.42s\tremaining: 382ms\n788:\tlearn: 0.4046068\ttotal: 1.42s\tremaining: 380ms\n789:\tlearn: 0.4043862\ttotal: 1.42s\tremaining: 378ms\n790:\tlearn: 0.4043355\ttotal: 1.42s\tremaining: 376ms\n791:\tlearn: 0.4040927\ttotal: 1.43s\tremaining: 374ms\n792:\tlearn: 0.4040407\ttotal: 1.43s\tremaining: 372ms\n793:\tlearn: 0.4039817\ttotal: 1.43s\tremaining: 370ms\n794:\tlearn: 0.4037694\ttotal: 1.43s\tremaining: 369ms\n795:\tlearn: 0.4035638\ttotal: 1.43s\tremaining: 368ms\n796:\tlearn: 0.4035012\ttotal: 1.44s\tremaining: 366ms\n797:\tlearn: 0.4032772\ttotal: 1.44s\tremaining: 364ms\n798:\tlearn: 0.4031485\ttotal: 1.44s\tremaining: 362ms\n799:\tlearn: 0.4029004\ttotal: 1.44s\tremaining: 360ms\n800:\tlearn: 0.4028243\ttotal: 1.44s\tremaining: 358ms\n801:\tlearn: 0.4026738\ttotal: 1.44s\tremaining: 356ms\n802:\tlearn: 0.4026240\ttotal: 1.44s\tremaining: 354ms\n803:\tlearn: 0.4024799\ttotal: 1.45s\tremaining: 352ms\n804:\tlearn: 0.4024141\ttotal: 1.45s\tremaining: 351ms\n805:\tlearn: 0.4023632\ttotal: 1.45s\tremaining: 349ms\n806:\tlearn: 0.4023212\ttotal: 1.45s\tremaining: 347ms\n807:\tlearn: 0.4021066\ttotal: 1.46s\tremaining: 346ms\n808:\tlearn: 0.4019569\ttotal: 1.46s\tremaining: 344ms\n809:\tlearn: 0.4017908\ttotal: 1.46s\tremaining: 343ms\n810:\tlearn: 0.4017293\ttotal: 1.46s\tremaining: 341ms\n811:\tlearn: 0.4015394\ttotal: 1.47s\tremaining: 340ms\n812:\tlearn: 0.4014258\ttotal: 1.47s\tremaining: 338ms\n813:\tlearn: 0.4013169\ttotal: 1.47s\tremaining: 336ms\n814:\tlearn: 0.4011987\ttotal: 1.47s\tremaining: 334ms\n815:\tlearn: 0.4011550\ttotal: 1.47s\tremaining: 332ms\n816:\tlearn: 0.4009740\ttotal: 1.47s\tremaining: 330ms\n817:\tlearn: 0.4008174\ttotal: 1.48s\tremaining: 328ms\n818:\tlearn: 0.4007229\ttotal: 1.48s\tremaining: 327ms\n819:\tlearn: 0.4006434\ttotal: 1.48s\tremaining: 325ms\n820:\tlearn: 0.4005436\ttotal: 1.48s\tremaining: 323ms\n821:\tlearn: 0.4003617\ttotal: 1.48s\tremaining: 321ms\n822:\tlearn: 0.4003452\ttotal: 1.49s\tremaining: 319ms\n823:\tlearn: 0.4002838\ttotal: 1.49s\tremaining: 317ms\n824:\tlearn: 0.4001430\ttotal: 1.49s\tremaining: 316ms\n825:\tlearn: 0.3998733\ttotal: 1.49s\tremaining: 314ms\n826:\tlearn: 0.3997403\ttotal: 1.49s\tremaining: 312ms\n827:\tlearn: 0.3994743\ttotal: 1.5s\tremaining: 312ms\n828:\tlearn: 0.3993201\ttotal: 1.5s\tremaining: 309ms\n829:\tlearn: 0.3993116\ttotal: 1.5s\tremaining: 308ms\n830:\tlearn: 0.3992831\ttotal: 1.5s\tremaining: 306ms\n831:\tlearn: 0.3992088\ttotal: 1.5s\tremaining: 304ms\n832:\tlearn: 0.3991099\ttotal: 1.5s\tremaining: 302ms\n833:\tlearn: 0.3990721\ttotal: 1.5s\tremaining: 300ms\n834:\tlearn: 0.3988806\ttotal: 1.51s\tremaining: 298ms\n835:\tlearn: 0.3988042\ttotal: 1.51s\tremaining: 296ms\n836:\tlearn: 0.3987297\ttotal: 1.51s\tremaining: 295ms\n837:\tlearn: 0.3985138\ttotal: 1.52s\tremaining: 293ms\n838:\tlearn: 0.3984029\ttotal: 1.52s\tremaining: 291ms\n839:\tlearn: 0.3983696\ttotal: 1.52s\tremaining: 289ms\n840:\tlearn: 0.3982134\ttotal: 1.52s\tremaining: 288ms\n841:\tlearn: 0.3979062\ttotal: 1.52s\tremaining: 286ms\n842:\tlearn: 0.3978751\ttotal: 1.52s\tremaining: 284ms\n843:\tlearn: 0.3977898\ttotal: 1.53s\tremaining: 282ms\n844:\tlearn: 0.3977068\ttotal: 1.53s\tremaining: 280ms\n845:\tlearn: 0.3975044\ttotal: 1.53s\tremaining: 279ms\n846:\tlearn: 0.3974194\ttotal: 1.53s\tremaining: 277ms\n847:\tlearn: 0.3973153\ttotal: 1.53s\tremaining: 275ms\n848:\tlearn: 0.3972570\ttotal: 1.53s\tremaining: 273ms\n849:\tlearn: 0.3972106\ttotal: 1.53s\tremaining: 271ms\n850:\tlearn: 0.3972082\ttotal: 1.54s\tremaining: 269ms\n851:\tlearn: 0.3971482\ttotal: 1.54s\tremaining: 267ms\n852:\tlearn: 0.3970700\ttotal: 1.54s\tremaining: 265ms\n853:\tlearn: 0.3969469\ttotal: 1.55s\tremaining: 264ms\n854:\tlearn: 0.3967306\ttotal: 1.55s\tremaining: 263ms\n855:\tlearn: 0.3966989\ttotal: 1.55s\tremaining: 261ms\n856:\tlearn: 0.3966638\ttotal: 1.55s\tremaining: 259ms\n857:\tlearn: 0.3966086\ttotal: 1.55s\tremaining: 257ms\n858:\tlearn: 0.3965916\ttotal: 1.55s\tremaining: 255ms\n859:\tlearn: 0.3964704\ttotal: 1.56s\tremaining: 254ms\n860:\tlearn: 0.3963301\ttotal: 1.56s\tremaining: 252ms\n861:\tlearn: 0.3962570\ttotal: 1.56s\tremaining: 250ms\n862:\tlearn: 0.3961972\ttotal: 1.56s\tremaining: 248ms\n863:\tlearn: 0.3960705\ttotal: 1.56s\tremaining: 246ms\n864:\tlearn: 0.3960380\ttotal: 1.56s\tremaining: 244ms\n865:\tlearn: 0.3959091\ttotal: 1.57s\tremaining: 242ms\n866:\tlearn: 0.3958000\ttotal: 1.57s\tremaining: 240ms\n867:\tlearn: 0.3956727\ttotal: 1.57s\tremaining: 239ms\n868:\tlearn: 0.3955372\ttotal: 1.57s\tremaining: 237ms\n869:\tlearn: 0.3954600\ttotal: 1.57s\tremaining: 235ms\n870:\tlearn: 0.3953333\ttotal: 1.57s\tremaining: 233ms\n871:\tlearn: 0.3952052\ttotal: 1.57s\tremaining: 231ms\n872:\tlearn: 0.3948109\ttotal: 1.58s\tremaining: 229ms\n873:\tlearn: 0.3946098\ttotal: 1.58s\tremaining: 228ms\n874:\tlearn: 0.3944873\ttotal: 1.58s\tremaining: 226ms\n875:\tlearn: 0.3944539\ttotal: 1.58s\tremaining: 224ms\n876:\tlearn: 0.3944088\ttotal: 1.58s\tremaining: 222ms\n877:\tlearn: 0.3941687\ttotal: 1.58s\tremaining: 220ms\n878:\tlearn: 0.3941035\ttotal: 1.58s\tremaining: 218ms\n879:\tlearn: 0.3939996\ttotal: 1.58s\tremaining: 216ms\n880:\tlearn: 0.3938821\ttotal: 1.59s\tremaining: 214ms\n881:\tlearn: 0.3938199\ttotal: 1.59s\tremaining: 213ms\n882:\tlearn: 0.3935475\ttotal: 1.59s\tremaining: 211ms\n883:\tlearn: 0.3934505\ttotal: 1.59s\tremaining: 209ms\n884:\tlearn: 0.3934161\ttotal: 1.59s\tremaining: 207ms\n885:\tlearn: 0.3932891\ttotal: 1.6s\tremaining: 205ms\n886:\tlearn: 0.3932447\ttotal: 1.6s\tremaining: 204ms\n887:\tlearn: 0.3931323\ttotal: 1.6s\tremaining: 202ms\n888:\tlearn: 0.3930477\ttotal: 1.6s\tremaining: 200ms\n889:\tlearn: 0.3930458\ttotal: 1.6s\tremaining: 198ms\n890:\tlearn: 0.3929505\ttotal: 1.61s\tremaining: 197ms\n891:\tlearn: 0.3925186\ttotal: 1.61s\tremaining: 195ms\n892:\tlearn: 0.3924119\ttotal: 1.61s\tremaining: 193ms\n893:\tlearn: 0.3921668\ttotal: 1.61s\tremaining: 191ms\n894:\tlearn: 0.3920890\ttotal: 1.61s\tremaining: 189ms\n895:\tlearn: 0.3920740\ttotal: 1.61s\tremaining: 187ms\n896:\tlearn: 0.3920365\ttotal: 1.61s\tremaining: 185ms\n897:\tlearn: 0.3919018\ttotal: 1.62s\tremaining: 184ms\n898:\tlearn: 0.3917966\ttotal: 1.62s\tremaining: 182ms\n899:\tlearn: 0.3914943\ttotal: 1.62s\tremaining: 180ms\n900:\tlearn: 0.3912115\ttotal: 1.63s\tremaining: 179ms\n901:\tlearn: 0.3911836\ttotal: 1.63s\tremaining: 177ms\n902:\tlearn: 0.3908254\ttotal: 1.63s\tremaining: 175ms\n903:\tlearn: 0.3905598\ttotal: 1.63s\tremaining: 173ms\n904:\tlearn: 0.3904401\ttotal: 1.63s\tremaining: 171ms\n905:\tlearn: 0.3903332\ttotal: 1.64s\tremaining: 170ms\n906:\tlearn: 0.3902908\ttotal: 1.64s\tremaining: 168ms\n907:\tlearn: 0.3901599\ttotal: 1.64s\tremaining: 166ms\n908:\tlearn: 0.3901097\ttotal: 1.64s\tremaining: 164ms\n909:\tlearn: 0.3900489\ttotal: 1.65s\tremaining: 163ms\n910:\tlearn: 0.3899899\ttotal: 1.65s\tremaining: 161ms\n911:\tlearn: 0.3897222\ttotal: 1.65s\tremaining: 159ms\n912:\tlearn: 0.3893685\ttotal: 1.65s\tremaining: 158ms\n913:\tlearn: 0.3893378\ttotal: 1.66s\tremaining: 156ms\n914:\tlearn: 0.3891568\ttotal: 1.66s\tremaining: 154ms\n915:\tlearn: 0.3890843\ttotal: 1.66s\tremaining: 152ms\n916:\tlearn: 0.3889746\ttotal: 1.66s\tremaining: 150ms\n917:\tlearn: 0.3886779\ttotal: 1.66s\tremaining: 148ms\n918:\tlearn: 0.3885327\ttotal: 1.66s\tremaining: 147ms\n919:\tlearn: 0.3885286\ttotal: 1.67s\tremaining: 145ms\n920:\tlearn: 0.3884711\ttotal: 1.67s\tremaining: 143ms\n921:\tlearn: 0.3884120\ttotal: 1.67s\tremaining: 141ms\n922:\tlearn: 0.3883678\ttotal: 1.67s\tremaining: 140ms\n923:\tlearn: 0.3883057\ttotal: 1.67s\tremaining: 138ms\n924:\tlearn: 0.3882859\ttotal: 1.68s\tremaining: 136ms\n925:\tlearn: 0.3879370\ttotal: 1.69s\tremaining: 135ms\n926:\tlearn: 0.3878942\ttotal: 1.69s\tremaining: 133ms\n927:\tlearn: 0.3876613\ttotal: 1.69s\tremaining: 131ms\n928:\tlearn: 0.3875139\ttotal: 1.69s\tremaining: 129ms\n929:\tlearn: 0.3874186\ttotal: 1.69s\tremaining: 127ms\n930:\tlearn: 0.3872440\ttotal: 1.69s\tremaining: 126ms\n931:\tlearn: 0.3870397\ttotal: 1.69s\tremaining: 124ms\n932:\tlearn: 0.3867560\ttotal: 1.7s\tremaining: 122ms\n933:\tlearn: 0.3865060\ttotal: 1.7s\tremaining: 120ms\n934:\tlearn: 0.3864038\ttotal: 1.71s\tremaining: 119ms\n935:\tlearn: 0.3861787\ttotal: 1.71s\tremaining: 117ms\n936:\tlearn: 0.3861224\ttotal: 1.71s\tremaining: 115ms\n937:\tlearn: 0.3860357\ttotal: 1.71s\tremaining: 113ms\n938:\tlearn: 0.3859141\ttotal: 1.72s\tremaining: 111ms\n939:\tlearn: 0.3858851\ttotal: 1.72s\tremaining: 110ms\n940:\tlearn: 0.3857656\ttotal: 1.72s\tremaining: 108ms\n941:\tlearn: 0.3857202\ttotal: 1.72s\tremaining: 106ms\n942:\tlearn: 0.3856314\ttotal: 1.72s\tremaining: 104ms\n943:\tlearn: 0.3855976\ttotal: 1.72s\tremaining: 102ms\n944:\tlearn: 0.3855367\ttotal: 1.72s\tremaining: 100ms\n945:\tlearn: 0.3854701\ttotal: 1.73s\tremaining: 98.5ms\n946:\tlearn: 0.3853565\ttotal: 1.73s\tremaining: 96.8ms\n947:\tlearn: 0.3852902\ttotal: 1.73s\tremaining: 95ms\n948:\tlearn: 0.3851954\ttotal: 1.73s\tremaining: 93.1ms\n949:\tlearn: 0.3848741\ttotal: 1.74s\tremaining: 91.3ms\n950:\tlearn: 0.3847521\ttotal: 1.74s\tremaining: 89.5ms\n951:\tlearn: 0.3844901\ttotal: 1.74s\tremaining: 87.7ms\n952:\tlearn: 0.3842963\ttotal: 1.74s\tremaining: 85.9ms\n953:\tlearn: 0.3842686\ttotal: 1.74s\tremaining: 84.1ms\n954:\tlearn: 0.3840370\ttotal: 1.75s\tremaining: 82.3ms\n955:\tlearn: 0.3839141\ttotal: 1.75s\tremaining: 80.5ms\n956:\tlearn: 0.3838639\ttotal: 1.75s\tremaining: 78.7ms\n957:\tlearn: 0.3837996\ttotal: 1.75s\tremaining: 76.8ms\n958:\tlearn: 0.3836302\ttotal: 1.75s\tremaining: 75ms\n959:\tlearn: 0.3835515\ttotal: 1.75s\tremaining: 73.1ms\n960:\tlearn: 0.3834988\ttotal: 1.76s\tremaining: 71.3ms\n961:\tlearn: 0.3831900\ttotal: 1.76s\tremaining: 69.4ms\n962:\tlearn: 0.3828055\ttotal: 1.76s\tremaining: 67.6ms\n963:\tlearn: 0.3825836\ttotal: 1.76s\tremaining: 65.8ms\n964:\tlearn: 0.3825455\ttotal: 1.76s\tremaining: 64ms\n965:\tlearn: 0.3824480\ttotal: 1.76s\tremaining: 62.1ms\n966:\tlearn: 0.3823907\ttotal: 1.77s\tremaining: 60.3ms\n967:\tlearn: 0.3822707\ttotal: 1.77s\tremaining: 58.5ms\n968:\tlearn: 0.3821384\ttotal: 1.77s\tremaining: 56.6ms\n969:\tlearn: 0.3820834\ttotal: 1.77s\tremaining: 54.8ms\n970:\tlearn: 0.3818215\ttotal: 1.77s\tremaining: 52.9ms\n971:\tlearn: 0.3816437\ttotal: 1.77s\tremaining: 51.2ms\n972:\tlearn: 0.3814997\ttotal: 1.78s\tremaining: 49.3ms\n973:\tlearn: 0.3813873\ttotal: 1.78s\tremaining: 47.5ms\n974:\tlearn: 0.3813011\ttotal: 1.78s\tremaining: 45.7ms\n975:\tlearn: 0.3811690\ttotal: 1.78s\tremaining: 43.8ms\n976:\tlearn: 0.3810055\ttotal: 1.78s\tremaining: 42ms\n977:\tlearn: 0.3806907\ttotal: 1.78s\tremaining: 40.1ms\n978:\tlearn: 0.3805418\ttotal: 1.78s\tremaining: 38.3ms\n979:\tlearn: 0.3804160\ttotal: 1.79s\tremaining: 36.5ms\n980:\tlearn: 0.3800326\ttotal: 1.79s\tremaining: 34.6ms\n981:\tlearn: 0.3799149\ttotal: 1.79s\tremaining: 32.8ms\n982:\tlearn: 0.3797017\ttotal: 1.79s\tremaining: 31ms\n983:\tlearn: 0.3796527\ttotal: 1.79s\tremaining: 29.2ms\n984:\tlearn: 0.3795807\ttotal: 1.79s\tremaining: 27.3ms\n985:\tlearn: 0.3795485\ttotal: 1.8s\tremaining: 25.5ms\n986:\tlearn: 0.3794131\ttotal: 1.8s\tremaining: 23.7ms\n987:\tlearn: 0.3792127\ttotal: 1.8s\tremaining: 21.9ms\n988:\tlearn: 0.3791369\ttotal: 1.8s\tremaining: 20.1ms\n989:\tlearn: 0.3790476\ttotal: 1.81s\tremaining: 18.3ms\n990:\tlearn: 0.3788736\ttotal: 1.81s\tremaining: 16.4ms\n991:\tlearn: 0.3788308\ttotal: 1.81s\tremaining: 14.6ms\n992:\tlearn: 0.3787384\ttotal: 1.81s\tremaining: 12.8ms\n993:\tlearn: 0.3787346\ttotal: 1.81s\tremaining: 10.9ms\n994:\tlearn: 0.3785712\ttotal: 1.81s\tremaining: 9.12ms\n995:\tlearn: 0.3783719\ttotal: 1.81s\tremaining: 7.29ms\n996:\tlearn: 0.3783037\ttotal: 1.82s\tremaining: 5.47ms\n997:\tlearn: 0.3780320\ttotal: 1.82s\tremaining: 3.65ms\n998:\tlearn: 0.3779414\ttotal: 1.82s\tremaining: 1.82ms\n999:\tlearn: 0.3778096\ttotal: 1.82s\tremaining: 0us\n"
    },
    {
     "output_type": "execute_result",
     "data": {
      "text/plain": "<catboost.core.CatBoostClassifier at 0x7f1f877b95d0>"
     },
     "metadata": {},
     "execution_count": 11
    }
   ],
   "source": [
    "model = CatBoostClassifier()\n",
    "x_train, x_test, y_train, y_test = train_test_split(x, y, random_state = 0)\n",
    "model.fit(x_train, y_train)"
   ]
  },
  {
   "cell_type": "code",
   "execution_count": 12,
   "metadata": {
    "tags": []
   },
   "outputs": [
    {
     "output_type": "stream",
     "name": "stdout",
     "text": "with Cat boost the accuracy was(with split): 73.74%\n"
    }
   ],
   "source": [
    "accuracy = model.score(x_test, y_test) * 100\n",
    "print(f'with Cat boost the accuracy was(with split): {accuracy.round(2)}%')"
   ]
  },
  {
   "cell_type": "code",
   "execution_count": 13,
   "metadata": {
    "tags": [
     "outputPrepend"
    ]
   },
   "outputs": [
    {
     "output_type": "stream",
     "name": "stdout",
     "text": "1s\tremaining: 689ms\n616:\tlearn: 0.4391864\ttotal: 1.1s\tremaining: 686ms\n617:\tlearn: 0.4390909\ttotal: 1.11s\tremaining: 684ms\n618:\tlearn: 0.4389095\ttotal: 1.11s\tremaining: 682ms\n619:\tlearn: 0.4388285\ttotal: 1.11s\tremaining: 680ms\n620:\tlearn: 0.4386527\ttotal: 1.11s\tremaining: 679ms\n621:\tlearn: 0.4383485\ttotal: 1.11s\tremaining: 677ms\n622:\tlearn: 0.4383155\ttotal: 1.11s\tremaining: 675ms\n623:\tlearn: 0.4381594\ttotal: 1.12s\tremaining: 674ms\n624:\tlearn: 0.4379971\ttotal: 1.12s\tremaining: 672ms\n625:\tlearn: 0.4378747\ttotal: 1.12s\tremaining: 670ms\n626:\tlearn: 0.4374763\ttotal: 1.12s\tremaining: 668ms\n627:\tlearn: 0.4373475\ttotal: 1.12s\tremaining: 666ms\n628:\tlearn: 0.4372922\ttotal: 1.13s\tremaining: 664ms\n629:\tlearn: 0.4372299\ttotal: 1.13s\tremaining: 662ms\n630:\tlearn: 0.4372033\ttotal: 1.13s\tremaining: 660ms\n631:\tlearn: 0.4370789\ttotal: 1.13s\tremaining: 658ms\n632:\tlearn: 0.4369424\ttotal: 1.13s\tremaining: 656ms\n633:\tlearn: 0.4368839\ttotal: 1.13s\tremaining: 654ms\n634:\tlearn: 0.4366866\ttotal: 1.13s\tremaining: 652ms\n635:\tlearn: 0.4366808\ttotal: 1.14s\tremaining: 650ms\n636:\tlearn: 0.4366626\ttotal: 1.15s\tremaining: 653ms\n637:\tlearn: 0.4365948\ttotal: 1.15s\tremaining: 651ms\n638:\tlearn: 0.4364715\ttotal: 1.15s\tremaining: 649ms\n639:\tlearn: 0.4363519\ttotal: 1.15s\tremaining: 647ms\n640:\tlearn: 0.4362441\ttotal: 1.15s\tremaining: 645ms\n641:\tlearn: 0.4361479\ttotal: 1.15s\tremaining: 643ms\n642:\tlearn: 0.4360394\ttotal: 1.16s\tremaining: 641ms\n643:\tlearn: 0.4359664\ttotal: 1.16s\tremaining: 640ms\n644:\tlearn: 0.4358671\ttotal: 1.16s\tremaining: 639ms\n645:\tlearn: 0.4358597\ttotal: 1.16s\tremaining: 636ms\n646:\tlearn: 0.4355944\ttotal: 1.16s\tremaining: 634ms\n647:\tlearn: 0.4355351\ttotal: 1.16s\tremaining: 632ms\n648:\tlearn: 0.4354168\ttotal: 1.17s\tremaining: 630ms\n649:\tlearn: 0.4353366\ttotal: 1.17s\tremaining: 628ms\n650:\tlearn: 0.4352715\ttotal: 1.17s\tremaining: 626ms\n651:\tlearn: 0.4351757\ttotal: 1.17s\tremaining: 624ms\n652:\tlearn: 0.4351333\ttotal: 1.17s\tremaining: 622ms\n653:\tlearn: 0.4348297\ttotal: 1.18s\tremaining: 622ms\n654:\tlearn: 0.4348286\ttotal: 1.18s\tremaining: 620ms\n655:\tlearn: 0.4347332\ttotal: 1.18s\tremaining: 618ms\n656:\tlearn: 0.4347213\ttotal: 1.18s\tremaining: 615ms\n657:\tlearn: 0.4344874\ttotal: 1.18s\tremaining: 613ms\n658:\tlearn: 0.4343900\ttotal: 1.18s\tremaining: 611ms\n659:\tlearn: 0.4342619\ttotal: 1.18s\tremaining: 609ms\n660:\tlearn: 0.4341277\ttotal: 1.18s\tremaining: 607ms\n661:\tlearn: 0.4340111\ttotal: 1.19s\tremaining: 606ms\n662:\tlearn: 0.4339067\ttotal: 1.19s\tremaining: 606ms\n663:\tlearn: 0.4338803\ttotal: 1.19s\tremaining: 604ms\n664:\tlearn: 0.4337269\ttotal: 1.2s\tremaining: 603ms\n665:\tlearn: 0.4336041\ttotal: 1.2s\tremaining: 601ms\n666:\tlearn: 0.4335058\ttotal: 1.2s\tremaining: 599ms\n667:\tlearn: 0.4334498\ttotal: 1.2s\tremaining: 597ms\n668:\tlearn: 0.4334442\ttotal: 1.2s\tremaining: 594ms\n669:\tlearn: 0.4334221\ttotal: 1.2s\tremaining: 592ms\n670:\tlearn: 0.4333700\ttotal: 1.2s\tremaining: 591ms\n671:\tlearn: 0.4332960\ttotal: 1.21s\tremaining: 589ms\n672:\tlearn: 0.4331897\ttotal: 1.21s\tremaining: 587ms\n673:\tlearn: 0.4331109\ttotal: 1.21s\tremaining: 585ms\n674:\tlearn: 0.4329425\ttotal: 1.21s\tremaining: 583ms\n675:\tlearn: 0.4326622\ttotal: 1.21s\tremaining: 581ms\n676:\tlearn: 0.4325942\ttotal: 1.21s\tremaining: 579ms\n677:\tlearn: 0.4325800\ttotal: 1.21s\tremaining: 577ms\n678:\tlearn: 0.4324593\ttotal: 1.22s\tremaining: 575ms\n679:\tlearn: 0.4323639\ttotal: 1.22s\tremaining: 573ms\n680:\tlearn: 0.4323527\ttotal: 1.22s\tremaining: 570ms\n681:\tlearn: 0.4323294\ttotal: 1.22s\tremaining: 568ms\n682:\tlearn: 0.4319621\ttotal: 1.22s\tremaining: 567ms\n683:\tlearn: 0.4318572\ttotal: 1.22s\tremaining: 565ms\n684:\tlearn: 0.4317640\ttotal: 1.23s\tremaining: 564ms\n685:\tlearn: 0.4316740\ttotal: 1.23s\tremaining: 561ms\n686:\tlearn: 0.4315310\ttotal: 1.23s\tremaining: 559ms\n687:\tlearn: 0.4313091\ttotal: 1.23s\tremaining: 557ms\n688:\tlearn: 0.4312449\ttotal: 1.23s\tremaining: 555ms\n689:\tlearn: 0.4311204\ttotal: 1.23s\tremaining: 553ms\n690:\tlearn: 0.4310728\ttotal: 1.23s\tremaining: 551ms\n691:\tlearn: 0.4310049\ttotal: 1.24s\tremaining: 550ms\n692:\tlearn: 0.4308586\ttotal: 1.24s\tremaining: 548ms\n693:\tlearn: 0.4308167\ttotal: 1.24s\tremaining: 547ms\n694:\tlearn: 0.4306943\ttotal: 1.24s\tremaining: 545ms\n695:\tlearn: 0.4302851\ttotal: 1.24s\tremaining: 543ms\n696:\tlearn: 0.4300667\ttotal: 1.24s\tremaining: 541ms\n697:\tlearn: 0.4300402\ttotal: 1.24s\tremaining: 539ms\n698:\tlearn: 0.4299630\ttotal: 1.25s\tremaining: 537ms\n699:\tlearn: 0.4298883\ttotal: 1.25s\tremaining: 534ms\n700:\tlearn: 0.4297207\ttotal: 1.25s\tremaining: 532ms\n701:\tlearn: 0.4296433\ttotal: 1.25s\tremaining: 530ms\n702:\tlearn: 0.4296040\ttotal: 1.25s\tremaining: 528ms\n703:\tlearn: 0.4293832\ttotal: 1.25s\tremaining: 527ms\n704:\tlearn: 0.4289787\ttotal: 1.25s\tremaining: 525ms\n705:\tlearn: 0.4289238\ttotal: 1.26s\tremaining: 523ms\n706:\tlearn: 0.4287611\ttotal: 1.26s\tremaining: 521ms\n707:\tlearn: 0.4286822\ttotal: 1.26s\tremaining: 519ms\n708:\tlearn: 0.4285980\ttotal: 1.26s\tremaining: 517ms\n709:\tlearn: 0.4284927\ttotal: 1.26s\tremaining: 515ms\n710:\tlearn: 0.4284865\ttotal: 1.26s\tremaining: 513ms\n711:\tlearn: 0.4282327\ttotal: 1.27s\tremaining: 512ms\n712:\tlearn: 0.4278517\ttotal: 1.27s\tremaining: 511ms\n713:\tlearn: 0.4277085\ttotal: 1.27s\tremaining: 509ms\n714:\tlearn: 0.4275033\ttotal: 1.27s\tremaining: 507ms\n715:\tlearn: 0.4274213\ttotal: 1.27s\tremaining: 505ms\n716:\tlearn: 0.4274205\ttotal: 1.27s\tremaining: 502ms\n717:\tlearn: 0.4273014\ttotal: 1.27s\tremaining: 501ms\n718:\tlearn: 0.4272062\ttotal: 1.27s\tremaining: 498ms\n719:\tlearn: 0.4270476\ttotal: 1.28s\tremaining: 496ms\n720:\tlearn: 0.4269753\ttotal: 1.28s\tremaining: 494ms\n721:\tlearn: 0.4268026\ttotal: 1.28s\tremaining: 492ms\n722:\tlearn: 0.4264993\ttotal: 1.28s\tremaining: 490ms\n723:\tlearn: 0.4263725\ttotal: 1.28s\tremaining: 488ms\n724:\tlearn: 0.4261534\ttotal: 1.28s\tremaining: 487ms\n725:\tlearn: 0.4260679\ttotal: 1.28s\tremaining: 485ms\n726:\tlearn: 0.4259807\ttotal: 1.29s\tremaining: 484ms\n727:\tlearn: 0.4259766\ttotal: 1.29s\tremaining: 482ms\n728:\tlearn: 0.4259046\ttotal: 1.29s\tremaining: 480ms\n729:\tlearn: 0.4257371\ttotal: 1.29s\tremaining: 478ms\n730:\tlearn: 0.4255984\ttotal: 1.29s\tremaining: 476ms\n731:\tlearn: 0.4254766\ttotal: 1.29s\tremaining: 474ms\n732:\tlearn: 0.4254187\ttotal: 1.3s\tremaining: 473ms\n733:\tlearn: 0.4253972\ttotal: 1.3s\tremaining: 471ms\n734:\tlearn: 0.4252179\ttotal: 1.3s\tremaining: 469ms\n735:\tlearn: 0.4251852\ttotal: 1.3s\tremaining: 467ms\n736:\tlearn: 0.4248985\ttotal: 1.3s\tremaining: 465ms\n737:\tlearn: 0.4248801\ttotal: 1.3s\tremaining: 463ms\n738:\tlearn: 0.4247576\ttotal: 1.31s\tremaining: 461ms\n739:\tlearn: 0.4245674\ttotal: 1.31s\tremaining: 460ms\n740:\tlearn: 0.4244319\ttotal: 1.31s\tremaining: 458ms\n741:\tlearn: 0.4243723\ttotal: 1.31s\tremaining: 456ms\n742:\tlearn: 0.4241411\ttotal: 1.31s\tremaining: 455ms\n743:\tlearn: 0.4240849\ttotal: 1.32s\tremaining: 453ms\n744:\tlearn: 0.4239977\ttotal: 1.32s\tremaining: 451ms\n745:\tlearn: 0.4239517\ttotal: 1.32s\tremaining: 449ms\n746:\tlearn: 0.4239431\ttotal: 1.32s\tremaining: 447ms\n747:\tlearn: 0.4238798\ttotal: 1.32s\tremaining: 445ms\n748:\tlearn: 0.4238075\ttotal: 1.32s\tremaining: 443ms\n749:\tlearn: 0.4237724\ttotal: 1.32s\tremaining: 441ms\n750:\tlearn: 0.4236999\ttotal: 1.32s\tremaining: 439ms\n751:\tlearn: 0.4236836\ttotal: 1.33s\tremaining: 439ms\n752:\tlearn: 0.4235931\ttotal: 1.33s\tremaining: 438ms\n753:\tlearn: 0.4235212\ttotal: 1.33s\tremaining: 436ms\n754:\tlearn: 0.4233227\ttotal: 1.34s\tremaining: 434ms\n755:\tlearn: 0.4232265\ttotal: 1.34s\tremaining: 432ms\n756:\tlearn: 0.4231406\ttotal: 1.34s\tremaining: 430ms\n757:\tlearn: 0.4230866\ttotal: 1.34s\tremaining: 428ms\n758:\tlearn: 0.4230839\ttotal: 1.35s\tremaining: 428ms\n759:\tlearn: 0.4230082\ttotal: 1.35s\tremaining: 426ms\n760:\tlearn: 0.4228834\ttotal: 1.35s\tremaining: 424ms\n761:\tlearn: 0.4228342\ttotal: 1.35s\tremaining: 422ms\n762:\tlearn: 0.4227850\ttotal: 1.35s\tremaining: 421ms\n763:\tlearn: 0.4225849\ttotal: 1.35s\tremaining: 419ms\n764:\tlearn: 0.4224434\ttotal: 1.36s\tremaining: 417ms\n765:\tlearn: 0.4223731\ttotal: 1.36s\tremaining: 415ms\n766:\tlearn: 0.4222516\ttotal: 1.36s\tremaining: 413ms\n767:\tlearn: 0.4221957\ttotal: 1.36s\tremaining: 411ms\n768:\tlearn: 0.4220719\ttotal: 1.36s\tremaining: 409ms\n769:\tlearn: 0.4219301\ttotal: 1.36s\tremaining: 407ms\n770:\tlearn: 0.4217923\ttotal: 1.36s\tremaining: 405ms\n771:\tlearn: 0.4217509\ttotal: 1.37s\tremaining: 404ms\n772:\tlearn: 0.4216602\ttotal: 1.37s\tremaining: 402ms\n773:\tlearn: 0.4215637\ttotal: 1.37s\tremaining: 400ms\n774:\tlearn: 0.4214446\ttotal: 1.37s\tremaining: 398ms\n775:\tlearn: 0.4213728\ttotal: 1.37s\tremaining: 396ms\n776:\tlearn: 0.4212140\ttotal: 1.37s\tremaining: 394ms\n777:\tlearn: 0.4209462\ttotal: 1.37s\tremaining: 392ms\n778:\tlearn: 0.4208296\ttotal: 1.37s\tremaining: 390ms\n779:\tlearn: 0.4207319\ttotal: 1.38s\tremaining: 388ms\n780:\tlearn: 0.4205212\ttotal: 1.38s\tremaining: 386ms\n781:\tlearn: 0.4204331\ttotal: 1.38s\tremaining: 384ms\n782:\tlearn: 0.4203074\ttotal: 1.38s\tremaining: 382ms\n783:\tlearn: 0.4201102\ttotal: 1.38s\tremaining: 381ms\n784:\tlearn: 0.4200070\ttotal: 1.38s\tremaining: 378ms\n785:\tlearn: 0.4199804\ttotal: 1.38s\tremaining: 377ms\n786:\tlearn: 0.4199001\ttotal: 1.38s\tremaining: 375ms\n787:\tlearn: 0.4196115\ttotal: 1.38s\tremaining: 373ms\n788:\tlearn: 0.4196101\ttotal: 1.39s\tremaining: 371ms\n789:\tlearn: 0.4194607\ttotal: 1.39s\tremaining: 369ms\n790:\tlearn: 0.4193272\ttotal: 1.39s\tremaining: 367ms\n791:\tlearn: 0.4193132\ttotal: 1.39s\tremaining: 365ms\n792:\tlearn: 0.4192408\ttotal: 1.39s\tremaining: 364ms\n793:\tlearn: 0.4190902\ttotal: 1.4s\tremaining: 362ms\n794:\tlearn: 0.4190428\ttotal: 1.4s\tremaining: 360ms\n795:\tlearn: 0.4189575\ttotal: 1.4s\tremaining: 359ms\n796:\tlearn: 0.4188901\ttotal: 1.4s\tremaining: 357ms\n797:\tlearn: 0.4187858\ttotal: 1.4s\tremaining: 355ms\n798:\tlearn: 0.4184892\ttotal: 1.4s\tremaining: 353ms\n799:\tlearn: 0.4183658\ttotal: 1.4s\tremaining: 351ms\n800:\tlearn: 0.4183032\ttotal: 1.4s\tremaining: 349ms\n801:\tlearn: 0.4182390\ttotal: 1.41s\tremaining: 347ms\n802:\tlearn: 0.4182008\ttotal: 1.41s\tremaining: 345ms\n803:\tlearn: 0.4180404\ttotal: 1.41s\tremaining: 343ms\n804:\tlearn: 0.4178547\ttotal: 1.41s\tremaining: 341ms\n805:\tlearn: 0.4177966\ttotal: 1.41s\tremaining: 340ms\n806:\tlearn: 0.4177156\ttotal: 1.41s\tremaining: 338ms\n807:\tlearn: 0.4176381\ttotal: 1.42s\tremaining: 336ms\n808:\tlearn: 0.4174427\ttotal: 1.42s\tremaining: 334ms\n809:\tlearn: 0.4173602\ttotal: 1.42s\tremaining: 333ms\n810:\tlearn: 0.4171664\ttotal: 1.42s\tremaining: 330ms\n811:\tlearn: 0.4168060\ttotal: 1.42s\tremaining: 329ms\n812:\tlearn: 0.4167355\ttotal: 1.43s\tremaining: 328ms\n813:\tlearn: 0.4165057\ttotal: 1.43s\tremaining: 326ms\n814:\tlearn: 0.4163893\ttotal: 1.43s\tremaining: 325ms\n815:\tlearn: 0.4161274\ttotal: 1.43s\tremaining: 323ms\n816:\tlearn: 0.4159585\ttotal: 1.43s\tremaining: 321ms\n817:\tlearn: 0.4159335\ttotal: 1.43s\tremaining: 319ms\n818:\tlearn: 0.4157856\ttotal: 1.43s\tremaining: 317ms\n819:\tlearn: 0.4156101\ttotal: 1.44s\tremaining: 316ms\n820:\tlearn: 0.4155851\ttotal: 1.44s\tremaining: 314ms\n821:\tlearn: 0.4154864\ttotal: 1.44s\tremaining: 312ms\n822:\tlearn: 0.4153629\ttotal: 1.44s\tremaining: 310ms\n823:\tlearn: 0.4152490\ttotal: 1.44s\tremaining: 309ms\n824:\tlearn: 0.4151380\ttotal: 1.45s\tremaining: 307ms\n825:\tlearn: 0.4149554\ttotal: 1.45s\tremaining: 305ms\n826:\tlearn: 0.4148044\ttotal: 1.45s\tremaining: 303ms\n827:\tlearn: 0.4146647\ttotal: 1.45s\tremaining: 301ms\n828:\tlearn: 0.4145690\ttotal: 1.46s\tremaining: 300ms\n829:\tlearn: 0.4142733\ttotal: 1.46s\tremaining: 299ms\n830:\tlearn: 0.4141513\ttotal: 1.46s\tremaining: 297ms\n831:\tlearn: 0.4140421\ttotal: 1.47s\tremaining: 296ms\n832:\tlearn: 0.4139962\ttotal: 1.47s\tremaining: 294ms\n833:\tlearn: 0.4139408\ttotal: 1.47s\tremaining: 292ms\n834:\tlearn: 0.4138279\ttotal: 1.47s\tremaining: 291ms\n835:\tlearn: 0.4137602\ttotal: 1.47s\tremaining: 289ms\n836:\tlearn: 0.4136916\ttotal: 1.47s\tremaining: 287ms\n837:\tlearn: 0.4134824\ttotal: 1.48s\tremaining: 286ms\n838:\tlearn: 0.4133998\ttotal: 1.48s\tremaining: 284ms\n839:\tlearn: 0.4133502\ttotal: 1.48s\tremaining: 282ms\n840:\tlearn: 0.4132104\ttotal: 1.48s\tremaining: 280ms\n841:\tlearn: 0.4131548\ttotal: 1.49s\tremaining: 279ms\n842:\tlearn: 0.4129547\ttotal: 1.49s\tremaining: 277ms\n843:\tlearn: 0.4129246\ttotal: 1.49s\tremaining: 275ms\n844:\tlearn: 0.4128433\ttotal: 1.49s\tremaining: 274ms\n845:\tlearn: 0.4126055\ttotal: 1.49s\tremaining: 272ms\n846:\tlearn: 0.4126017\ttotal: 1.49s\tremaining: 270ms\n847:\tlearn: 0.4124654\ttotal: 1.5s\tremaining: 268ms\n848:\tlearn: 0.4124060\ttotal: 1.5s\tremaining: 266ms\n849:\tlearn: 0.4122992\ttotal: 1.5s\tremaining: 265ms\n850:\tlearn: 0.4121237\ttotal: 1.5s\tremaining: 263ms\n851:\tlearn: 0.4119495\ttotal: 1.51s\tremaining: 262ms\n852:\tlearn: 0.4117807\ttotal: 1.51s\tremaining: 260ms\n853:\tlearn: 0.4117442\ttotal: 1.51s\tremaining: 258ms\n854:\tlearn: 0.4116854\ttotal: 1.51s\tremaining: 256ms\n855:\tlearn: 0.4116208\ttotal: 1.51s\tremaining: 254ms\n856:\tlearn: 0.4115883\ttotal: 1.52s\tremaining: 254ms\n857:\tlearn: 0.4114282\ttotal: 1.52s\tremaining: 252ms\n858:\tlearn: 0.4113221\ttotal: 1.52s\tremaining: 250ms\n859:\tlearn: 0.4113162\ttotal: 1.53s\tremaining: 249ms\n860:\tlearn: 0.4111845\ttotal: 1.53s\tremaining: 247ms\n861:\tlearn: 0.4108596\ttotal: 1.53s\tremaining: 245ms\n862:\tlearn: 0.4108158\ttotal: 1.53s\tremaining: 243ms\n863:\tlearn: 0.4106447\ttotal: 1.53s\tremaining: 242ms\n864:\tlearn: 0.4105898\ttotal: 1.54s\tremaining: 240ms\n865:\tlearn: 0.4104166\ttotal: 1.54s\tremaining: 238ms\n866:\tlearn: 0.4103585\ttotal: 1.54s\tremaining: 237ms\n867:\tlearn: 0.4102130\ttotal: 1.54s\tremaining: 235ms\n868:\tlearn: 0.4100949\ttotal: 1.54s\tremaining: 233ms\n869:\tlearn: 0.4098327\ttotal: 1.54s\tremaining: 231ms\n870:\tlearn: 0.4097127\ttotal: 1.55s\tremaining: 229ms\n871:\tlearn: 0.4095902\ttotal: 1.55s\tremaining: 228ms\n872:\tlearn: 0.4095035\ttotal: 1.55s\tremaining: 226ms\n873:\tlearn: 0.4093764\ttotal: 1.55s\tremaining: 224ms\n874:\tlearn: 0.4093201\ttotal: 1.55s\tremaining: 222ms\n875:\tlearn: 0.4092744\ttotal: 1.56s\tremaining: 220ms\n876:\tlearn: 0.4091960\ttotal: 1.56s\tremaining: 218ms\n877:\tlearn: 0.4090109\ttotal: 1.56s\tremaining: 217ms\n878:\tlearn: 0.4087405\ttotal: 1.56s\tremaining: 215ms\n879:\tlearn: 0.4087117\ttotal: 1.56s\tremaining: 213ms\n880:\tlearn: 0.4085873\ttotal: 1.56s\tremaining: 211ms\n881:\tlearn: 0.4085423\ttotal: 1.56s\tremaining: 209ms\n882:\tlearn: 0.4083562\ttotal: 1.57s\tremaining: 208ms\n883:\tlearn: 0.4082446\ttotal: 1.57s\tremaining: 206ms\n884:\tlearn: 0.4080404\ttotal: 1.57s\tremaining: 204ms\n885:\tlearn: 0.4079008\ttotal: 1.57s\tremaining: 202ms\n886:\tlearn: 0.4078898\ttotal: 1.57s\tremaining: 200ms\n887:\tlearn: 0.4077337\ttotal: 1.57s\tremaining: 198ms\n888:\tlearn: 0.4075579\ttotal: 1.57s\tremaining: 196ms\n889:\tlearn: 0.4075081\ttotal: 1.57s\tremaining: 195ms\n890:\tlearn: 0.4074346\ttotal: 1.57s\tremaining: 193ms\n891:\tlearn: 0.4072203\ttotal: 1.58s\tremaining: 191ms\n892:\tlearn: 0.4070459\ttotal: 1.58s\tremaining: 189ms\n893:\tlearn: 0.4070423\ttotal: 1.58s\tremaining: 187ms\n894:\tlearn: 0.4068620\ttotal: 1.58s\tremaining: 185ms\n895:\tlearn: 0.4067022\ttotal: 1.58s\tremaining: 184ms\n896:\tlearn: 0.4065591\ttotal: 1.58s\tremaining: 182ms\n897:\tlearn: 0.4065019\ttotal: 1.58s\tremaining: 180ms\n898:\tlearn: 0.4062910\ttotal: 1.58s\tremaining: 178ms\n899:\tlearn: 0.4062207\ttotal: 1.59s\tremaining: 176ms\n900:\tlearn: 0.4060280\ttotal: 1.59s\tremaining: 174ms\n901:\tlearn: 0.4058999\ttotal: 1.59s\tremaining: 173ms\n902:\tlearn: 0.4057354\ttotal: 1.59s\tremaining: 171ms\n903:\tlearn: 0.4056971\ttotal: 1.59s\tremaining: 169ms\n904:\tlearn: 0.4054438\ttotal: 1.6s\tremaining: 168ms\n905:\tlearn: 0.4052724\ttotal: 1.6s\tremaining: 166ms\n906:\tlearn: 0.4051669\ttotal: 1.6s\tremaining: 164ms\n907:\tlearn: 0.4050457\ttotal: 1.6s\tremaining: 162ms\n908:\tlearn: 0.4050220\ttotal: 1.6s\tremaining: 160ms\n909:\tlearn: 0.4049852\ttotal: 1.6s\tremaining: 159ms\n910:\tlearn: 0.4048805\ttotal: 1.6s\tremaining: 157ms\n911:\tlearn: 0.4048555\ttotal: 1.6s\tremaining: 155ms\n912:\tlearn: 0.4048160\ttotal: 1.61s\tremaining: 153ms\n913:\tlearn: 0.4047193\ttotal: 1.61s\tremaining: 151ms\n914:\tlearn: 0.4043903\ttotal: 1.61s\tremaining: 150ms\n915:\tlearn: 0.4043624\ttotal: 1.61s\tremaining: 148ms\n916:\tlearn: 0.4042255\ttotal: 1.61s\tremaining: 146ms\n917:\tlearn: 0.4041420\ttotal: 1.61s\tremaining: 144ms\n918:\tlearn: 0.4040728\ttotal: 1.61s\tremaining: 142ms\n919:\tlearn: 0.4039696\ttotal: 1.62s\tremaining: 141ms\n920:\tlearn: 0.4038377\ttotal: 1.62s\tremaining: 139ms\n921:\tlearn: 0.4037430\ttotal: 1.62s\tremaining: 137ms\n922:\tlearn: 0.4036017\ttotal: 1.63s\tremaining: 136ms\n923:\tlearn: 0.4034791\ttotal: 1.63s\tremaining: 134ms\n924:\tlearn: 0.4033719\ttotal: 1.63s\tremaining: 132ms\n925:\tlearn: 0.4033251\ttotal: 1.63s\tremaining: 130ms\n926:\tlearn: 0.4029966\ttotal: 1.63s\tremaining: 129ms\n927:\tlearn: 0.4029502\ttotal: 1.63s\tremaining: 127ms\n928:\tlearn: 0.4028033\ttotal: 1.64s\tremaining: 125ms\n929:\tlearn: 0.4026740\ttotal: 1.64s\tremaining: 123ms\n930:\tlearn: 0.4025658\ttotal: 1.64s\tremaining: 121ms\n931:\tlearn: 0.4024786\ttotal: 1.64s\tremaining: 120ms\n932:\tlearn: 0.4022713\ttotal: 1.64s\tremaining: 118ms\n933:\tlearn: 0.4022006\ttotal: 1.64s\tremaining: 116ms\n934:\tlearn: 0.4020224\ttotal: 1.65s\tremaining: 114ms\n935:\tlearn: 0.4018873\ttotal: 1.65s\tremaining: 113ms\n936:\tlearn: 0.4018296\ttotal: 1.65s\tremaining: 111ms\n937:\tlearn: 0.4017946\ttotal: 1.65s\tremaining: 109ms\n938:\tlearn: 0.4017056\ttotal: 1.65s\tremaining: 107ms\n939:\tlearn: 0.4016395\ttotal: 1.65s\tremaining: 105ms\n940:\tlearn: 0.4015676\ttotal: 1.65s\tremaining: 104ms\n941:\tlearn: 0.4014786\ttotal: 1.66s\tremaining: 102ms\n942:\tlearn: 0.4014207\ttotal: 1.66s\tremaining: 100ms\n943:\tlearn: 0.4013169\ttotal: 1.66s\tremaining: 98.4ms\n944:\tlearn: 0.4011818\ttotal: 1.66s\tremaining: 96.6ms\n945:\tlearn: 0.4011332\ttotal: 1.66s\tremaining: 94.8ms\n946:\tlearn: 0.4010440\ttotal: 1.66s\tremaining: 93.2ms\n947:\tlearn: 0.4007204\ttotal: 1.67s\tremaining: 91.4ms\n948:\tlearn: 0.4006108\ttotal: 1.67s\tremaining: 89.7ms\n949:\tlearn: 0.4005685\ttotal: 1.67s\tremaining: 87.9ms\n950:\tlearn: 0.4004911\ttotal: 1.67s\tremaining: 86.2ms\n951:\tlearn: 0.4004566\ttotal: 1.68s\tremaining: 84.5ms\n952:\tlearn: 0.4002409\ttotal: 1.68s\tremaining: 82.7ms\n953:\tlearn: 0.3999545\ttotal: 1.68s\tremaining: 80.9ms\n954:\tlearn: 0.3998916\ttotal: 1.68s\tremaining: 79.1ms\n955:\tlearn: 0.3997922\ttotal: 1.68s\tremaining: 77.4ms\n956:\tlearn: 0.3996906\ttotal: 1.68s\tremaining: 75.6ms\n957:\tlearn: 0.3994799\ttotal: 1.69s\tremaining: 73.9ms\n958:\tlearn: 0.3994405\ttotal: 1.69s\tremaining: 72.3ms\n959:\tlearn: 0.3992879\ttotal: 1.69s\tremaining: 70.5ms\n960:\tlearn: 0.3992050\ttotal: 1.69s\tremaining: 68.7ms\n961:\tlearn: 0.3990940\ttotal: 1.69s\tremaining: 66.9ms\n962:\tlearn: 0.3989528\ttotal: 1.7s\tremaining: 65.2ms\n963:\tlearn: 0.3988989\ttotal: 1.7s\tremaining: 63.4ms\n964:\tlearn: 0.3987525\ttotal: 1.7s\tremaining: 61.6ms\n965:\tlearn: 0.3987074\ttotal: 1.7s\tremaining: 59.9ms\n966:\tlearn: 0.3986614\ttotal: 1.71s\tremaining: 58.2ms\n967:\tlearn: 0.3986102\ttotal: 1.71s\tremaining: 56.5ms\n968:\tlearn: 0.3984500\ttotal: 1.71s\tremaining: 54.7ms\n969:\tlearn: 0.3983496\ttotal: 1.71s\tremaining: 53ms\n970:\tlearn: 0.3983166\ttotal: 1.71s\tremaining: 51.2ms\n971:\tlearn: 0.3982625\ttotal: 1.72s\tremaining: 49.4ms\n972:\tlearn: 0.3981945\ttotal: 1.72s\tremaining: 47.7ms\n973:\tlearn: 0.3981837\ttotal: 1.72s\tremaining: 45.9ms\n974:\tlearn: 0.3979511\ttotal: 1.72s\tremaining: 44.2ms\n975:\tlearn: 0.3979109\ttotal: 1.72s\tremaining: 42.4ms\n976:\tlearn: 0.3976917\ttotal: 1.73s\tremaining: 40.6ms\n977:\tlearn: 0.3976441\ttotal: 1.73s\tremaining: 38.9ms\n978:\tlearn: 0.3973311\ttotal: 1.73s\tremaining: 37.1ms\n979:\tlearn: 0.3973249\ttotal: 1.73s\tremaining: 35.3ms\n980:\tlearn: 0.3972713\ttotal: 1.73s\tremaining: 33.6ms\n981:\tlearn: 0.3972061\ttotal: 1.74s\tremaining: 31.8ms\n982:\tlearn: 0.3969656\ttotal: 1.74s\tremaining: 30.1ms\n983:\tlearn: 0.3969094\ttotal: 1.74s\tremaining: 28.3ms\n984:\tlearn: 0.3968333\ttotal: 1.74s\tremaining: 26.5ms\n985:\tlearn: 0.3967330\ttotal: 1.74s\tremaining: 24.7ms\n986:\tlearn: 0.3966802\ttotal: 1.74s\tremaining: 23ms\n987:\tlearn: 0.3966380\ttotal: 1.74s\tremaining: 21.2ms\n988:\tlearn: 0.3965202\ttotal: 1.75s\tremaining: 19.4ms\n989:\tlearn: 0.3963561\ttotal: 1.75s\tremaining: 17.6ms\n990:\tlearn: 0.3962127\ttotal: 1.75s\tremaining: 15.9ms\n991:\tlearn: 0.3961278\ttotal: 1.75s\tremaining: 14.1ms\n992:\tlearn: 0.3960271\ttotal: 1.75s\tremaining: 12.3ms\n993:\tlearn: 0.3959280\ttotal: 1.75s\tremaining: 10.6ms\n994:\tlearn: 0.3956156\ttotal: 1.75s\tremaining: 8.81ms\n995:\tlearn: 0.3956130\ttotal: 1.75s\tremaining: 7.04ms\n996:\tlearn: 0.3955459\ttotal: 1.75s\tremaining: 5.28ms\n997:\tlearn: 0.3954654\ttotal: 1.76s\tremaining: 3.52ms\n998:\tlearn: 0.3953808\ttotal: 1.76s\tremaining: 1.76ms\n999:\tlearn: 0.3953389\ttotal: 1.76s\tremaining: 0us\n"
    },
    {
     "output_type": "execute_result",
     "data": {
      "text/plain": "<catboost.core.CatBoostClassifier at 0x7f1f877b95d0>"
     },
     "metadata": {},
     "execution_count": 13
    }
   ],
   "source": [
    "model.fit(x, y)"
   ]
  },
  {
   "cell_type": "code",
   "execution_count": 14,
   "metadata": {
    "tags": []
   },
   "outputs": [
    {
     "output_type": "stream",
     "name": "stdout",
     "text": "with Cat boost the accuracy was(with out split): 84.3%\n"
    }
   ],
   "source": [
    "accuracy = model.score(x, y) * 100\n",
    "print(f'with Cat boost the accuracy was(with out split): {accuracy.round(2)}%')"
   ]
  },
  {
   "cell_type": "code",
   "execution_count": null,
   "metadata": {},
   "outputs": [],
   "source": []
  }
 ]
}