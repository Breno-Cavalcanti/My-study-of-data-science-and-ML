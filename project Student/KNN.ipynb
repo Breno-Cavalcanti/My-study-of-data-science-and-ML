{
 "cells": [
  {
   "cell_type": "code",
   "execution_count": 1,
   "metadata": {},
   "outputs": [],
   "source": [
    "import pandas as pd\n",
    "pd.options.display.max_columns = None\n",
    "from sklearn.neighbors import KNeighborsClassifier\n",
    "from sklearn.preprocessing import LabelEncoder\n",
    "import seaborn as sns\n",
    "from sklearn.metrics import accuracy_score\n",
    "from sklearn.model_selection import GridSearchCV\n",
    "from sklearn.preprocessing import MinMaxScaler\n",
    "from scipy.stats import ranksums"
   ]
  },
  {
   "cell_type": "code",
   "execution_count": 2,
   "metadata": {},
   "outputs": [
    {
     "output_type": "execute_result",
     "data": {
      "text/plain": "  school sex  age address famsize Pstatus  Medu  Fedu     Mjob      Fjob  \\\n0     GP   F   18       U     GT3       A     4     4  at_home   teacher   \n1     GP   F   17       U     GT3       T     1     1  at_home     other   \n2     GP   F   15       U     LE3       T     1     1  at_home     other   \n3     GP   F   15       U     GT3       T     4     2   health  services   \n4     GP   F   16       U     GT3       T     3     3    other     other   \n\n   reason guardian  traveltime  studytime  failures schoolsup famsup paid  \\\n0  course   mother           2          2         0       yes     no   no   \n1  course   father           1          2         0        no    yes   no   \n2   other   mother           1          2         3       yes     no  yes   \n3    home   mother           1          3         0        no    yes  yes   \n4    home   father           1          2         0        no    yes  yes   \n\n  activities nursery higher internet romantic  famrel  freetime  goout  Dalc  \\\n0         no     yes    yes       no       no       4         3      4     1   \n1         no      no    yes      yes       no       5         3      3     1   \n2         no     yes    yes      yes       no       4         3      2     2   \n3        yes     yes    yes      yes      yes       3         2      2     1   \n4         no     yes    yes       no       no       4         3      2     1   \n\n   Walc  health  absences  G1  G2  G3  \n0     1       3         6   5   6   6  \n1     1       3         4   5   5   6  \n2     3       3        10   7   8  10  \n3     1       5         2  15  14  15  \n4     2       5         4   6  10  10  ",
      "text/html": "<div>\n<style scoped>\n    .dataframe tbody tr th:only-of-type {\n        vertical-align: middle;\n    }\n\n    .dataframe tbody tr th {\n        vertical-align: top;\n    }\n\n    .dataframe thead th {\n        text-align: right;\n    }\n</style>\n<table border=\"1\" class=\"dataframe\">\n  <thead>\n    <tr style=\"text-align: right;\">\n      <th></th>\n      <th>school</th>\n      <th>sex</th>\n      <th>age</th>\n      <th>address</th>\n      <th>famsize</th>\n      <th>Pstatus</th>\n      <th>Medu</th>\n      <th>Fedu</th>\n      <th>Mjob</th>\n      <th>Fjob</th>\n      <th>reason</th>\n      <th>guardian</th>\n      <th>traveltime</th>\n      <th>studytime</th>\n      <th>failures</th>\n      <th>schoolsup</th>\n      <th>famsup</th>\n      <th>paid</th>\n      <th>activities</th>\n      <th>nursery</th>\n      <th>higher</th>\n      <th>internet</th>\n      <th>romantic</th>\n      <th>famrel</th>\n      <th>freetime</th>\n      <th>goout</th>\n      <th>Dalc</th>\n      <th>Walc</th>\n      <th>health</th>\n      <th>absences</th>\n      <th>G1</th>\n      <th>G2</th>\n      <th>G3</th>\n    </tr>\n  </thead>\n  <tbody>\n    <tr>\n      <th>0</th>\n      <td>GP</td>\n      <td>F</td>\n      <td>18</td>\n      <td>U</td>\n      <td>GT3</td>\n      <td>A</td>\n      <td>4</td>\n      <td>4</td>\n      <td>at_home</td>\n      <td>teacher</td>\n      <td>course</td>\n      <td>mother</td>\n      <td>2</td>\n      <td>2</td>\n      <td>0</td>\n      <td>yes</td>\n      <td>no</td>\n      <td>no</td>\n      <td>no</td>\n      <td>yes</td>\n      <td>yes</td>\n      <td>no</td>\n      <td>no</td>\n      <td>4</td>\n      <td>3</td>\n      <td>4</td>\n      <td>1</td>\n      <td>1</td>\n      <td>3</td>\n      <td>6</td>\n      <td>5</td>\n      <td>6</td>\n      <td>6</td>\n    </tr>\n    <tr>\n      <th>1</th>\n      <td>GP</td>\n      <td>F</td>\n      <td>17</td>\n      <td>U</td>\n      <td>GT3</td>\n      <td>T</td>\n      <td>1</td>\n      <td>1</td>\n      <td>at_home</td>\n      <td>other</td>\n      <td>course</td>\n      <td>father</td>\n      <td>1</td>\n      <td>2</td>\n      <td>0</td>\n      <td>no</td>\n      <td>yes</td>\n      <td>no</td>\n      <td>no</td>\n      <td>no</td>\n      <td>yes</td>\n      <td>yes</td>\n      <td>no</td>\n      <td>5</td>\n      <td>3</td>\n      <td>3</td>\n      <td>1</td>\n      <td>1</td>\n      <td>3</td>\n      <td>4</td>\n      <td>5</td>\n      <td>5</td>\n      <td>6</td>\n    </tr>\n    <tr>\n      <th>2</th>\n      <td>GP</td>\n      <td>F</td>\n      <td>15</td>\n      <td>U</td>\n      <td>LE3</td>\n      <td>T</td>\n      <td>1</td>\n      <td>1</td>\n      <td>at_home</td>\n      <td>other</td>\n      <td>other</td>\n      <td>mother</td>\n      <td>1</td>\n      <td>2</td>\n      <td>3</td>\n      <td>yes</td>\n      <td>no</td>\n      <td>yes</td>\n      <td>no</td>\n      <td>yes</td>\n      <td>yes</td>\n      <td>yes</td>\n      <td>no</td>\n      <td>4</td>\n      <td>3</td>\n      <td>2</td>\n      <td>2</td>\n      <td>3</td>\n      <td>3</td>\n      <td>10</td>\n      <td>7</td>\n      <td>8</td>\n      <td>10</td>\n    </tr>\n    <tr>\n      <th>3</th>\n      <td>GP</td>\n      <td>F</td>\n      <td>15</td>\n      <td>U</td>\n      <td>GT3</td>\n      <td>T</td>\n      <td>4</td>\n      <td>2</td>\n      <td>health</td>\n      <td>services</td>\n      <td>home</td>\n      <td>mother</td>\n      <td>1</td>\n      <td>3</td>\n      <td>0</td>\n      <td>no</td>\n      <td>yes</td>\n      <td>yes</td>\n      <td>yes</td>\n      <td>yes</td>\n      <td>yes</td>\n      <td>yes</td>\n      <td>yes</td>\n      <td>3</td>\n      <td>2</td>\n      <td>2</td>\n      <td>1</td>\n      <td>1</td>\n      <td>5</td>\n      <td>2</td>\n      <td>15</td>\n      <td>14</td>\n      <td>15</td>\n    </tr>\n    <tr>\n      <th>4</th>\n      <td>GP</td>\n      <td>F</td>\n      <td>16</td>\n      <td>U</td>\n      <td>GT3</td>\n      <td>T</td>\n      <td>3</td>\n      <td>3</td>\n      <td>other</td>\n      <td>other</td>\n      <td>home</td>\n      <td>father</td>\n      <td>1</td>\n      <td>2</td>\n      <td>0</td>\n      <td>no</td>\n      <td>yes</td>\n      <td>yes</td>\n      <td>no</td>\n      <td>yes</td>\n      <td>yes</td>\n      <td>no</td>\n      <td>no</td>\n      <td>4</td>\n      <td>3</td>\n      <td>2</td>\n      <td>1</td>\n      <td>2</td>\n      <td>5</td>\n      <td>4</td>\n      <td>6</td>\n      <td>10</td>\n      <td>10</td>\n    </tr>\n  </tbody>\n</table>\n</div>"
     },
     "metadata": {},
     "execution_count": 2
    }
   ],
   "source": [
    "#reading the dataset.\n",
    "data = pd.read_csv('student-mat.csv', sep = ';')\n",
    "data.head()"
   ]
  },
  {
   "cell_type": "code",
   "execution_count": 3,
   "metadata": {},
   "outputs": [
    {
     "output_type": "execute_result",
     "data": {
      "text/plain": "(395, 33)"
     },
     "metadata": {},
     "execution_count": 3
    }
   ],
   "source": [
    "data.shape"
   ]
  },
  {
   "cell_type": "code",
   "execution_count": 4,
   "metadata": {},
   "outputs": [
    {
     "output_type": "execute_result",
     "data": {
      "text/plain": "  school sex  age address famsize Pstatus  Medu  Fedu      Mjob      Fjob  \\\n0     GP   F   18       U     GT3       A     4     4   at_home   teacher   \n1     GP   F   17       U     GT3       T     1     1   at_home     other   \n2     GP   F   15       U     LE3       T     1     1   at_home     other   \n3     GP   F   15       U     GT3       T     4     2    health  services   \n4     GP   F   16       U     GT3       T     3     3     other     other   \n5     GP   M   16       U     LE3       T     4     3  services     other   \n6     GP   M   16       U     LE3       T     2     2     other     other   \n7     GP   F   17       U     GT3       A     4     4     other   teacher   \n\n       reason guardian  traveltime  studytime  failures schoolsup famsup paid  \\\n0      course   mother           2          2         0       yes     no   no   \n1      course   father           1          2         0        no    yes   no   \n2       other   mother           1          2         3       yes     no  yes   \n3        home   mother           1          3         0        no    yes  yes   \n4        home   father           1          2         0        no    yes  yes   \n5  reputation   mother           1          2         0        no    yes  yes   \n6        home   mother           1          2         0        no     no   no   \n7        home   mother           2          2         0       yes    yes   no   \n\n  activities nursery higher internet romantic  famrel  freetime  goout  Dalc  \\\n0         no     yes    yes       no       no       4         3      4     1   \n1         no      no    yes      yes       no       5         3      3     1   \n2         no     yes    yes      yes       no       4         3      2     2   \n3        yes     yes    yes      yes      yes       3         2      2     1   \n4         no     yes    yes       no       no       4         3      2     1   \n5        yes     yes    yes      yes       no       5         4      2     1   \n6         no     yes    yes      yes       no       4         4      4     1   \n7         no     yes    yes       no       no       4         1      4     1   \n\n   Walc  health  absences  G1  G2  G3  Passed  \n0     1       3         6   5   6   6   False  \n1     1       3         4   5   5   6   False  \n2     3       3        10   7   8  10    True  \n3     1       5         2  15  14  15    True  \n4     2       5         4   6  10  10    True  \n5     2       5        10  15  15  15    True  \n6     1       3         0  12  12  11    True  \n7     1       1         6   6   5   6   False  ",
      "text/html": "<div>\n<style scoped>\n    .dataframe tbody tr th:only-of-type {\n        vertical-align: middle;\n    }\n\n    .dataframe tbody tr th {\n        vertical-align: top;\n    }\n\n    .dataframe thead th {\n        text-align: right;\n    }\n</style>\n<table border=\"1\" class=\"dataframe\">\n  <thead>\n    <tr style=\"text-align: right;\">\n      <th></th>\n      <th>school</th>\n      <th>sex</th>\n      <th>age</th>\n      <th>address</th>\n      <th>famsize</th>\n      <th>Pstatus</th>\n      <th>Medu</th>\n      <th>Fedu</th>\n      <th>Mjob</th>\n      <th>Fjob</th>\n      <th>reason</th>\n      <th>guardian</th>\n      <th>traveltime</th>\n      <th>studytime</th>\n      <th>failures</th>\n      <th>schoolsup</th>\n      <th>famsup</th>\n      <th>paid</th>\n      <th>activities</th>\n      <th>nursery</th>\n      <th>higher</th>\n      <th>internet</th>\n      <th>romantic</th>\n      <th>famrel</th>\n      <th>freetime</th>\n      <th>goout</th>\n      <th>Dalc</th>\n      <th>Walc</th>\n      <th>health</th>\n      <th>absences</th>\n      <th>G1</th>\n      <th>G2</th>\n      <th>G3</th>\n      <th>Passed</th>\n    </tr>\n  </thead>\n  <tbody>\n    <tr>\n      <th>0</th>\n      <td>GP</td>\n      <td>F</td>\n      <td>18</td>\n      <td>U</td>\n      <td>GT3</td>\n      <td>A</td>\n      <td>4</td>\n      <td>4</td>\n      <td>at_home</td>\n      <td>teacher</td>\n      <td>course</td>\n      <td>mother</td>\n      <td>2</td>\n      <td>2</td>\n      <td>0</td>\n      <td>yes</td>\n      <td>no</td>\n      <td>no</td>\n      <td>no</td>\n      <td>yes</td>\n      <td>yes</td>\n      <td>no</td>\n      <td>no</td>\n      <td>4</td>\n      <td>3</td>\n      <td>4</td>\n      <td>1</td>\n      <td>1</td>\n      <td>3</td>\n      <td>6</td>\n      <td>5</td>\n      <td>6</td>\n      <td>6</td>\n      <td>False</td>\n    </tr>\n    <tr>\n      <th>1</th>\n      <td>GP</td>\n      <td>F</td>\n      <td>17</td>\n      <td>U</td>\n      <td>GT3</td>\n      <td>T</td>\n      <td>1</td>\n      <td>1</td>\n      <td>at_home</td>\n      <td>other</td>\n      <td>course</td>\n      <td>father</td>\n      <td>1</td>\n      <td>2</td>\n      <td>0</td>\n      <td>no</td>\n      <td>yes</td>\n      <td>no</td>\n      <td>no</td>\n      <td>no</td>\n      <td>yes</td>\n      <td>yes</td>\n      <td>no</td>\n      <td>5</td>\n      <td>3</td>\n      <td>3</td>\n      <td>1</td>\n      <td>1</td>\n      <td>3</td>\n      <td>4</td>\n      <td>5</td>\n      <td>5</td>\n      <td>6</td>\n      <td>False</td>\n    </tr>\n    <tr>\n      <th>2</th>\n      <td>GP</td>\n      <td>F</td>\n      <td>15</td>\n      <td>U</td>\n      <td>LE3</td>\n      <td>T</td>\n      <td>1</td>\n      <td>1</td>\n      <td>at_home</td>\n      <td>other</td>\n      <td>other</td>\n      <td>mother</td>\n      <td>1</td>\n      <td>2</td>\n      <td>3</td>\n      <td>yes</td>\n      <td>no</td>\n      <td>yes</td>\n      <td>no</td>\n      <td>yes</td>\n      <td>yes</td>\n      <td>yes</td>\n      <td>no</td>\n      <td>4</td>\n      <td>3</td>\n      <td>2</td>\n      <td>2</td>\n      <td>3</td>\n      <td>3</td>\n      <td>10</td>\n      <td>7</td>\n      <td>8</td>\n      <td>10</td>\n      <td>True</td>\n    </tr>\n    <tr>\n      <th>3</th>\n      <td>GP</td>\n      <td>F</td>\n      <td>15</td>\n      <td>U</td>\n      <td>GT3</td>\n      <td>T</td>\n      <td>4</td>\n      <td>2</td>\n      <td>health</td>\n      <td>services</td>\n      <td>home</td>\n      <td>mother</td>\n      <td>1</td>\n      <td>3</td>\n      <td>0</td>\n      <td>no</td>\n      <td>yes</td>\n      <td>yes</td>\n      <td>yes</td>\n      <td>yes</td>\n      <td>yes</td>\n      <td>yes</td>\n      <td>yes</td>\n      <td>3</td>\n      <td>2</td>\n      <td>2</td>\n      <td>1</td>\n      <td>1</td>\n      <td>5</td>\n      <td>2</td>\n      <td>15</td>\n      <td>14</td>\n      <td>15</td>\n      <td>True</td>\n    </tr>\n    <tr>\n      <th>4</th>\n      <td>GP</td>\n      <td>F</td>\n      <td>16</td>\n      <td>U</td>\n      <td>GT3</td>\n      <td>T</td>\n      <td>3</td>\n      <td>3</td>\n      <td>other</td>\n      <td>other</td>\n      <td>home</td>\n      <td>father</td>\n      <td>1</td>\n      <td>2</td>\n      <td>0</td>\n      <td>no</td>\n      <td>yes</td>\n      <td>yes</td>\n      <td>no</td>\n      <td>yes</td>\n      <td>yes</td>\n      <td>no</td>\n      <td>no</td>\n      <td>4</td>\n      <td>3</td>\n      <td>2</td>\n      <td>1</td>\n      <td>2</td>\n      <td>5</td>\n      <td>4</td>\n      <td>6</td>\n      <td>10</td>\n      <td>10</td>\n      <td>True</td>\n    </tr>\n    <tr>\n      <th>5</th>\n      <td>GP</td>\n      <td>M</td>\n      <td>16</td>\n      <td>U</td>\n      <td>LE3</td>\n      <td>T</td>\n      <td>4</td>\n      <td>3</td>\n      <td>services</td>\n      <td>other</td>\n      <td>reputation</td>\n      <td>mother</td>\n      <td>1</td>\n      <td>2</td>\n      <td>0</td>\n      <td>no</td>\n      <td>yes</td>\n      <td>yes</td>\n      <td>yes</td>\n      <td>yes</td>\n      <td>yes</td>\n      <td>yes</td>\n      <td>no</td>\n      <td>5</td>\n      <td>4</td>\n      <td>2</td>\n      <td>1</td>\n      <td>2</td>\n      <td>5</td>\n      <td>10</td>\n      <td>15</td>\n      <td>15</td>\n      <td>15</td>\n      <td>True</td>\n    </tr>\n    <tr>\n      <th>6</th>\n      <td>GP</td>\n      <td>M</td>\n      <td>16</td>\n      <td>U</td>\n      <td>LE3</td>\n      <td>T</td>\n      <td>2</td>\n      <td>2</td>\n      <td>other</td>\n      <td>other</td>\n      <td>home</td>\n      <td>mother</td>\n      <td>1</td>\n      <td>2</td>\n      <td>0</td>\n      <td>no</td>\n      <td>no</td>\n      <td>no</td>\n      <td>no</td>\n      <td>yes</td>\n      <td>yes</td>\n      <td>yes</td>\n      <td>no</td>\n      <td>4</td>\n      <td>4</td>\n      <td>4</td>\n      <td>1</td>\n      <td>1</td>\n      <td>3</td>\n      <td>0</td>\n      <td>12</td>\n      <td>12</td>\n      <td>11</td>\n      <td>True</td>\n    </tr>\n    <tr>\n      <th>7</th>\n      <td>GP</td>\n      <td>F</td>\n      <td>17</td>\n      <td>U</td>\n      <td>GT3</td>\n      <td>A</td>\n      <td>4</td>\n      <td>4</td>\n      <td>other</td>\n      <td>teacher</td>\n      <td>home</td>\n      <td>mother</td>\n      <td>2</td>\n      <td>2</td>\n      <td>0</td>\n      <td>yes</td>\n      <td>yes</td>\n      <td>no</td>\n      <td>no</td>\n      <td>yes</td>\n      <td>yes</td>\n      <td>no</td>\n      <td>no</td>\n      <td>4</td>\n      <td>1</td>\n      <td>4</td>\n      <td>1</td>\n      <td>1</td>\n      <td>1</td>\n      <td>6</td>\n      <td>6</td>\n      <td>5</td>\n      <td>6</td>\n      <td>False</td>\n    </tr>\n  </tbody>\n</table>\n</div>"
     },
     "metadata": {},
     "execution_count": 4
    }
   ],
   "source": [
    "#creating the colum wich will say if the student was passed or not.\n",
    "data['Passed'] = data['G3'] >= 10\n",
    "data.head(8)"
   ]
  },
  {
   "cell_type": "code",
   "execution_count": 5,
   "metadata": {},
   "outputs": [],
   "source": [
    "encoder = LabelEncoder()\n",
    "scaler = MinMaxScaler()"
   ]
  },
  {
   "cell_type": "code",
   "execution_count": 6,
   "metadata": {},
   "outputs": [],
   "source": [
    "#vectorising the labels\n",
    "list_of_coluns_to_encoder = ['school','address','famsize','Pstatus','Medu','Fedu','Mjob','Fjob',\n",
    "'reason','guardian','schoolsup','famsup','paid','activities',\n",
    "'nursery','higher','internet','romantic', 'Passed', 'sex']\n",
    "for colum in list_of_coluns_to_encoder:\n",
    "    data[colum] = encoder.fit_transform(data[colum])"
   ]
  },
  {
   "cell_type": "code",
   "execution_count": 7,
   "metadata": {},
   "outputs": [
    {
     "output_type": "execute_result",
     "data": {
      "text/plain": "   school  sex  age  address  famsize  Pstatus  Medu  Fedu  Mjob  Fjob  \\\n0       0    0   18        1        0        0     4     4     0     4   \n1       0    0   17        1        0        1     1     1     0     2   \n2       0    0   15        1        1        1     1     1     0     2   \n3       0    0   15        1        0        1     4     2     1     3   \n4       0    0   16        1        0        1     3     3     2     2   \n\n   reason  guardian  traveltime  studytime  failures  schoolsup  famsup  paid  \\\n0       0         1           2          2         0          1       0     0   \n1       0         0           1          2         0          0       1     0   \n2       2         1           1          2         3          1       0     1   \n3       1         1           1          3         0          0       1     1   \n4       1         0           1          2         0          0       1     1   \n\n   activities  nursery  higher  internet  romantic  famrel  freetime  goout  \\\n0           0        1       1         0         0       4         3      4   \n1           0        0       1         1         0       5         3      3   \n2           0        1       1         1         0       4         3      2   \n3           1        1       1         1         1       3         2      2   \n4           0        1       1         0         0       4         3      2   \n\n   Dalc  Walc  health  absences  G1  G2  G3  Passed  \n0     1     1       3         6   5   6   6       0  \n1     1     1       3         4   5   5   6       0  \n2     2     3       3        10   7   8  10       1  \n3     1     1       5         2  15  14  15       1  \n4     1     2       5         4   6  10  10       1  ",
      "text/html": "<div>\n<style scoped>\n    .dataframe tbody tr th:only-of-type {\n        vertical-align: middle;\n    }\n\n    .dataframe tbody tr th {\n        vertical-align: top;\n    }\n\n    .dataframe thead th {\n        text-align: right;\n    }\n</style>\n<table border=\"1\" class=\"dataframe\">\n  <thead>\n    <tr style=\"text-align: right;\">\n      <th></th>\n      <th>school</th>\n      <th>sex</th>\n      <th>age</th>\n      <th>address</th>\n      <th>famsize</th>\n      <th>Pstatus</th>\n      <th>Medu</th>\n      <th>Fedu</th>\n      <th>Mjob</th>\n      <th>Fjob</th>\n      <th>reason</th>\n      <th>guardian</th>\n      <th>traveltime</th>\n      <th>studytime</th>\n      <th>failures</th>\n      <th>schoolsup</th>\n      <th>famsup</th>\n      <th>paid</th>\n      <th>activities</th>\n      <th>nursery</th>\n      <th>higher</th>\n      <th>internet</th>\n      <th>romantic</th>\n      <th>famrel</th>\n      <th>freetime</th>\n      <th>goout</th>\n      <th>Dalc</th>\n      <th>Walc</th>\n      <th>health</th>\n      <th>absences</th>\n      <th>G1</th>\n      <th>G2</th>\n      <th>G3</th>\n      <th>Passed</th>\n    </tr>\n  </thead>\n  <tbody>\n    <tr>\n      <th>0</th>\n      <td>0</td>\n      <td>0</td>\n      <td>18</td>\n      <td>1</td>\n      <td>0</td>\n      <td>0</td>\n      <td>4</td>\n      <td>4</td>\n      <td>0</td>\n      <td>4</td>\n      <td>0</td>\n      <td>1</td>\n      <td>2</td>\n      <td>2</td>\n      <td>0</td>\n      <td>1</td>\n      <td>0</td>\n      <td>0</td>\n      <td>0</td>\n      <td>1</td>\n      <td>1</td>\n      <td>0</td>\n      <td>0</td>\n      <td>4</td>\n      <td>3</td>\n      <td>4</td>\n      <td>1</td>\n      <td>1</td>\n      <td>3</td>\n      <td>6</td>\n      <td>5</td>\n      <td>6</td>\n      <td>6</td>\n      <td>0</td>\n    </tr>\n    <tr>\n      <th>1</th>\n      <td>0</td>\n      <td>0</td>\n      <td>17</td>\n      <td>1</td>\n      <td>0</td>\n      <td>1</td>\n      <td>1</td>\n      <td>1</td>\n      <td>0</td>\n      <td>2</td>\n      <td>0</td>\n      <td>0</td>\n      <td>1</td>\n      <td>2</td>\n      <td>0</td>\n      <td>0</td>\n      <td>1</td>\n      <td>0</td>\n      <td>0</td>\n      <td>0</td>\n      <td>1</td>\n      <td>1</td>\n      <td>0</td>\n      <td>5</td>\n      <td>3</td>\n      <td>3</td>\n      <td>1</td>\n      <td>1</td>\n      <td>3</td>\n      <td>4</td>\n      <td>5</td>\n      <td>5</td>\n      <td>6</td>\n      <td>0</td>\n    </tr>\n    <tr>\n      <th>2</th>\n      <td>0</td>\n      <td>0</td>\n      <td>15</td>\n      <td>1</td>\n      <td>1</td>\n      <td>1</td>\n      <td>1</td>\n      <td>1</td>\n      <td>0</td>\n      <td>2</td>\n      <td>2</td>\n      <td>1</td>\n      <td>1</td>\n      <td>2</td>\n      <td>3</td>\n      <td>1</td>\n      <td>0</td>\n      <td>1</td>\n      <td>0</td>\n      <td>1</td>\n      <td>1</td>\n      <td>1</td>\n      <td>0</td>\n      <td>4</td>\n      <td>3</td>\n      <td>2</td>\n      <td>2</td>\n      <td>3</td>\n      <td>3</td>\n      <td>10</td>\n      <td>7</td>\n      <td>8</td>\n      <td>10</td>\n      <td>1</td>\n    </tr>\n    <tr>\n      <th>3</th>\n      <td>0</td>\n      <td>0</td>\n      <td>15</td>\n      <td>1</td>\n      <td>0</td>\n      <td>1</td>\n      <td>4</td>\n      <td>2</td>\n      <td>1</td>\n      <td>3</td>\n      <td>1</td>\n      <td>1</td>\n      <td>1</td>\n      <td>3</td>\n      <td>0</td>\n      <td>0</td>\n      <td>1</td>\n      <td>1</td>\n      <td>1</td>\n      <td>1</td>\n      <td>1</td>\n      <td>1</td>\n      <td>1</td>\n      <td>3</td>\n      <td>2</td>\n      <td>2</td>\n      <td>1</td>\n      <td>1</td>\n      <td>5</td>\n      <td>2</td>\n      <td>15</td>\n      <td>14</td>\n      <td>15</td>\n      <td>1</td>\n    </tr>\n    <tr>\n      <th>4</th>\n      <td>0</td>\n      <td>0</td>\n      <td>16</td>\n      <td>1</td>\n      <td>0</td>\n      <td>1</td>\n      <td>3</td>\n      <td>3</td>\n      <td>2</td>\n      <td>2</td>\n      <td>1</td>\n      <td>0</td>\n      <td>1</td>\n      <td>2</td>\n      <td>0</td>\n      <td>0</td>\n      <td>1</td>\n      <td>1</td>\n      <td>0</td>\n      <td>1</td>\n      <td>1</td>\n      <td>0</td>\n      <td>0</td>\n      <td>4</td>\n      <td>3</td>\n      <td>2</td>\n      <td>1</td>\n      <td>2</td>\n      <td>5</td>\n      <td>4</td>\n      <td>6</td>\n      <td>10</td>\n      <td>10</td>\n      <td>1</td>\n    </tr>\n  </tbody>\n</table>\n</div>"
     },
     "metadata": {},
     "execution_count": 7
    }
   ],
   "source": [
    "data.head()"
   ]
  },
  {
   "cell_type": "markdown",
   "metadata": {},
   "source": []
  },
  {
   "cell_type": "code",
   "execution_count": 8,
   "metadata": {},
   "outputs": [
    {
     "output_type": "stream",
     "name": "stdout",
     "text": "pvalue romantic: 0.07063194525553458\npvalue nursery: 0.5302464960777487\n"
    }
   ],
   "source": [
    "# exploratory work, i will see if some conditions inteferrer to a student pass or not. I will use G3 has parameter to diced\n",
    "# I will do just for romantic and nursery, because i really don't know if those are statistically significant.\n",
    "grades_of_students_wich_are_dating = data.query('romantic == 1')['G3']\n",
    "\n",
    "grades_of_students_wich_are_not_dating = data.query('romantic == 0')['G3']\n",
    "\n",
    "# the null hypotesses will be: students_wich_are_dating = students_wich_are_not_dating.\n",
    "# so the anternative hypotesses wil be: mean_deating != mean_not_dating\n",
    "# if pvalue <= 0.05, it will refuse the null hypotesses, so they will be statistically diferent and i will use for the model.\n",
    "# if not, i will drop.\n",
    "r1 = ranksums(grades_of_students_wich_are_dating, grades_of_students_wich_are_not_dating)\n",
    "\n",
    "grades_of_students_wich_have_nursery = data.query('nursery == 1')['G3']\n",
    "grades_of_students_wich_not_have_nursery = data.query('nursery == 0')['G3']\n",
    "\n",
    "r2 = ranksums(grades_of_students_wich_have_nursery,grades_of_students_wich_not_have_nursery)\n",
    "\n",
    "print(f'pvalue romantic: {r1.pvalue}')\n",
    "print(f'pvalue nursery: {r2.pvalue}')"
   ]
  },
  {
   "cell_type": "code",
   "execution_count": 9,
   "metadata": {},
   "outputs": [],
   "source": [
    "data.drop(['G1','G2','G3','nursery','romantic'], axis = 1, inplace = True)"
   ]
  },
  {
   "cell_type": "code",
   "execution_count": 10,
   "metadata": {},
   "outputs": [
    {
     "output_type": "execute_result",
     "data": {
      "text/plain": "school        395\nsex           395\nage           395\naddress       395\nfamsize       395\nPstatus       395\nMedu          395\nFedu          395\nMjob          395\nFjob          395\nreason        395\nguardian      395\ntraveltime    395\nstudytime     395\nfailures      395\nschoolsup     395\nfamsup        395\npaid          395\nactivities    395\nhigher        395\ninternet      395\nfamrel        395\nfreetime      395\ngoout         395\nDalc          395\nWalc          395\nhealth        395\nabsences      395\nPassed        395\ndtype: int64"
     },
     "metadata": {},
     "execution_count": 10
    }
   ],
   "source": [
    "data.count()"
   ]
  },
  {
   "cell_type": "code",
   "execution_count": 11,
   "metadata": {},
   "outputs": [
    {
     "output_type": "execute_result",
     "data": {
      "text/plain": "(395, 29)"
     },
     "metadata": {},
     "execution_count": 11
    }
   ],
   "source": [
    "data.shape"
   ]
  },
  {
   "cell_type": "code",
   "execution_count": 12,
   "metadata": {},
   "outputs": [
    {
     "output_type": "execute_result",
     "data": {
      "text/plain": "   school  sex  age  address  famsize  Pstatus  Medu  Fedu  Mjob  Fjob  \\\n0       0    0   18        1        0        0     4     4     0     4   \n1       0    0   17        1        0        1     1     1     0     2   \n2       0    0   15        1        1        1     1     1     0     2   \n3       0    0   15        1        0        1     4     2     1     3   \n4       0    0   16        1        0        1     3     3     2     2   \n\n   reason  guardian  traveltime  studytime  failures  schoolsup  famsup  paid  \\\n0       0         1           2          2         0          1       0     0   \n1       0         0           1          2         0          0       1     0   \n2       2         1           1          2         3          1       0     1   \n3       1         1           1          3         0          0       1     1   \n4       1         0           1          2         0          0       1     1   \n\n   activities  higher  internet  famrel  freetime  goout  Dalc  Walc  health  \\\n0           0       1         0       4         3      4     1     1       3   \n1           0       1         1       5         3      3     1     1       3   \n2           0       1         1       4         3      2     2     3       3   \n3           1       1         1       3         2      2     1     1       5   \n4           0       1         0       4         3      2     1     2       5   \n\n   absences  Passed  \n0         6       0  \n1         4       0  \n2        10       1  \n3         2       1  \n4         4       1  ",
      "text/html": "<div>\n<style scoped>\n    .dataframe tbody tr th:only-of-type {\n        vertical-align: middle;\n    }\n\n    .dataframe tbody tr th {\n        vertical-align: top;\n    }\n\n    .dataframe thead th {\n        text-align: right;\n    }\n</style>\n<table border=\"1\" class=\"dataframe\">\n  <thead>\n    <tr style=\"text-align: right;\">\n      <th></th>\n      <th>school</th>\n      <th>sex</th>\n      <th>age</th>\n      <th>address</th>\n      <th>famsize</th>\n      <th>Pstatus</th>\n      <th>Medu</th>\n      <th>Fedu</th>\n      <th>Mjob</th>\n      <th>Fjob</th>\n      <th>reason</th>\n      <th>guardian</th>\n      <th>traveltime</th>\n      <th>studytime</th>\n      <th>failures</th>\n      <th>schoolsup</th>\n      <th>famsup</th>\n      <th>paid</th>\n      <th>activities</th>\n      <th>higher</th>\n      <th>internet</th>\n      <th>famrel</th>\n      <th>freetime</th>\n      <th>goout</th>\n      <th>Dalc</th>\n      <th>Walc</th>\n      <th>health</th>\n      <th>absences</th>\n      <th>Passed</th>\n    </tr>\n  </thead>\n  <tbody>\n    <tr>\n      <th>0</th>\n      <td>0</td>\n      <td>0</td>\n      <td>18</td>\n      <td>1</td>\n      <td>0</td>\n      <td>0</td>\n      <td>4</td>\n      <td>4</td>\n      <td>0</td>\n      <td>4</td>\n      <td>0</td>\n      <td>1</td>\n      <td>2</td>\n      <td>2</td>\n      <td>0</td>\n      <td>1</td>\n      <td>0</td>\n      <td>0</td>\n      <td>0</td>\n      <td>1</td>\n      <td>0</td>\n      <td>4</td>\n      <td>3</td>\n      <td>4</td>\n      <td>1</td>\n      <td>1</td>\n      <td>3</td>\n      <td>6</td>\n      <td>0</td>\n    </tr>\n    <tr>\n      <th>1</th>\n      <td>0</td>\n      <td>0</td>\n      <td>17</td>\n      <td>1</td>\n      <td>0</td>\n      <td>1</td>\n      <td>1</td>\n      <td>1</td>\n      <td>0</td>\n      <td>2</td>\n      <td>0</td>\n      <td>0</td>\n      <td>1</td>\n      <td>2</td>\n      <td>0</td>\n      <td>0</td>\n      <td>1</td>\n      <td>0</td>\n      <td>0</td>\n      <td>1</td>\n      <td>1</td>\n      <td>5</td>\n      <td>3</td>\n      <td>3</td>\n      <td>1</td>\n      <td>1</td>\n      <td>3</td>\n      <td>4</td>\n      <td>0</td>\n    </tr>\n    <tr>\n      <th>2</th>\n      <td>0</td>\n      <td>0</td>\n      <td>15</td>\n      <td>1</td>\n      <td>1</td>\n      <td>1</td>\n      <td>1</td>\n      <td>1</td>\n      <td>0</td>\n      <td>2</td>\n      <td>2</td>\n      <td>1</td>\n      <td>1</td>\n      <td>2</td>\n      <td>3</td>\n      <td>1</td>\n      <td>0</td>\n      <td>1</td>\n      <td>0</td>\n      <td>1</td>\n      <td>1</td>\n      <td>4</td>\n      <td>3</td>\n      <td>2</td>\n      <td>2</td>\n      <td>3</td>\n      <td>3</td>\n      <td>10</td>\n      <td>1</td>\n    </tr>\n    <tr>\n      <th>3</th>\n      <td>0</td>\n      <td>0</td>\n      <td>15</td>\n      <td>1</td>\n      <td>0</td>\n      <td>1</td>\n      <td>4</td>\n      <td>2</td>\n      <td>1</td>\n      <td>3</td>\n      <td>1</td>\n      <td>1</td>\n      <td>1</td>\n      <td>3</td>\n      <td>0</td>\n      <td>0</td>\n      <td>1</td>\n      <td>1</td>\n      <td>1</td>\n      <td>1</td>\n      <td>1</td>\n      <td>3</td>\n      <td>2</td>\n      <td>2</td>\n      <td>1</td>\n      <td>1</td>\n      <td>5</td>\n      <td>2</td>\n      <td>1</td>\n    </tr>\n    <tr>\n      <th>4</th>\n      <td>0</td>\n      <td>0</td>\n      <td>16</td>\n      <td>1</td>\n      <td>0</td>\n      <td>1</td>\n      <td>3</td>\n      <td>3</td>\n      <td>2</td>\n      <td>2</td>\n      <td>1</td>\n      <td>0</td>\n      <td>1</td>\n      <td>2</td>\n      <td>0</td>\n      <td>0</td>\n      <td>1</td>\n      <td>1</td>\n      <td>0</td>\n      <td>1</td>\n      <td>0</td>\n      <td>4</td>\n      <td>3</td>\n      <td>2</td>\n      <td>1</td>\n      <td>2</td>\n      <td>5</td>\n      <td>4</td>\n      <td>1</td>\n    </tr>\n  </tbody>\n</table>\n</div>"
     },
     "metadata": {},
     "execution_count": 12
    }
   ],
   "source": [
    "data.head()"
   ]
  },
  {
   "cell_type": "code",
   "execution_count": 14,
   "metadata": {},
   "outputs": [],
   "source": [
    "x = data.iloc[:, :29].values\n",
    "x = scaler.fit_transform(x)\n",
    "y = data.iloc[:,28].values"
   ]
  },
  {
   "cell_type": "code",
   "execution_count": 15,
   "metadata": {},
   "outputs": [
    {
     "output_type": "execute_result",
     "data": {
      "text/plain": "(395, 29)"
     },
     "metadata": {},
     "execution_count": 15
    }
   ],
   "source": [
    "x.shape"
   ]
  },
  {
   "cell_type": "code",
   "execution_count": 16,
   "metadata": {},
   "outputs": [
    {
     "output_type": "execute_result",
     "data": {
      "text/plain": "(395, 1)"
     },
     "metadata": {},
     "execution_count": 16
    }
   ],
   "source": [
    "y = y.reshape(-1,1)\n",
    "y.shape"
   ]
  },
  {
   "cell_type": "code",
   "execution_count": 17,
   "metadata": {},
   "outputs": [],
   "source": [
    "model = KNeighborsClassifier()"
   ]
  },
  {
   "cell_type": "code",
   "execution_count": 18,
   "metadata": {},
   "outputs": [
    {
     "output_type": "execute_result",
     "data": {
      "text/plain": "     mean_fit_time  std_fit_time  mean_score_time  std_score_time  \\\n26        0.001496      0.000676         0.003489        0.000918   \n166       0.000103      0.000309         0.002479        0.000488   \n96        0.001995      0.000441         0.003294        0.000643   \n162       0.000199      0.000399         0.002093        0.000296   \n22        0.001712      0.000477         0.003502        0.000802   \n\n    param_algorithm param_n_neighbors param_weights  \\\n26        ball_tree                18       uniform   \n166           brute                18       uniform   \n96          kd_tree                18       uniform   \n162           brute                16       uniform   \n22        ball_tree                16       uniform   \n\n                                                params  split0_test_score  \\\n26   {'algorithm': 'ball_tree', 'n_neighbors': 18, ...                1.0   \n166  {'algorithm': 'brute', 'n_neighbors': 18, 'wei...                1.0   \n96   {'algorithm': 'kd_tree', 'n_neighbors': 18, 'w...                1.0   \n162  {'algorithm': 'brute', 'n_neighbors': 16, 'wei...                1.0   \n22   {'algorithm': 'ball_tree', 'n_neighbors': 16, ...                1.0   \n\n     split1_test_score  split2_test_score  split3_test_score  \\\n26               0.975                1.0                1.0   \n166              0.975                1.0                1.0   \n96               0.975                1.0                1.0   \n162              0.975                1.0                1.0   \n22               0.975                1.0                1.0   \n\n     split4_test_score  split5_test_score  split6_test_score  \\\n26               0.925                1.0           0.974359   \n166              0.925                1.0           0.974359   \n96               0.925                1.0           0.974359   \n162              0.900                1.0           0.974359   \n22               0.900                1.0           0.974359   \n\n     split7_test_score  split8_test_score  split9_test_score  mean_test_score  \\\n26            0.974359                1.0                1.0         0.984872   \n166           0.974359                1.0                1.0         0.984872   \n96            0.974359                1.0                1.0         0.984872   \n162           0.974359                1.0                1.0         0.982372   \n22            0.974359                1.0                1.0         0.982372   \n\n     std_test_score  rank_test_score  \n26         0.022970                1  \n166        0.022970                1  \n96         0.022970                1  \n162        0.029719                4  \n22         0.029719                4  ",
      "text/html": "<div>\n<style scoped>\n    .dataframe tbody tr th:only-of-type {\n        vertical-align: middle;\n    }\n\n    .dataframe tbody tr th {\n        vertical-align: top;\n    }\n\n    .dataframe thead th {\n        text-align: right;\n    }\n</style>\n<table border=\"1\" class=\"dataframe\">\n  <thead>\n    <tr style=\"text-align: right;\">\n      <th></th>\n      <th>mean_fit_time</th>\n      <th>std_fit_time</th>\n      <th>mean_score_time</th>\n      <th>std_score_time</th>\n      <th>param_algorithm</th>\n      <th>param_n_neighbors</th>\n      <th>param_weights</th>\n      <th>params</th>\n      <th>split0_test_score</th>\n      <th>split1_test_score</th>\n      <th>split2_test_score</th>\n      <th>split3_test_score</th>\n      <th>split4_test_score</th>\n      <th>split5_test_score</th>\n      <th>split6_test_score</th>\n      <th>split7_test_score</th>\n      <th>split8_test_score</th>\n      <th>split9_test_score</th>\n      <th>mean_test_score</th>\n      <th>std_test_score</th>\n      <th>rank_test_score</th>\n    </tr>\n  </thead>\n  <tbody>\n    <tr>\n      <th>26</th>\n      <td>0.001496</td>\n      <td>0.000676</td>\n      <td>0.003489</td>\n      <td>0.000918</td>\n      <td>ball_tree</td>\n      <td>18</td>\n      <td>uniform</td>\n      <td>{'algorithm': 'ball_tree', 'n_neighbors': 18, ...</td>\n      <td>1.0</td>\n      <td>0.975</td>\n      <td>1.0</td>\n      <td>1.0</td>\n      <td>0.925</td>\n      <td>1.0</td>\n      <td>0.974359</td>\n      <td>0.974359</td>\n      <td>1.0</td>\n      <td>1.0</td>\n      <td>0.984872</td>\n      <td>0.022970</td>\n      <td>1</td>\n    </tr>\n    <tr>\n      <th>166</th>\n      <td>0.000103</td>\n      <td>0.000309</td>\n      <td>0.002479</td>\n      <td>0.000488</td>\n      <td>brute</td>\n      <td>18</td>\n      <td>uniform</td>\n      <td>{'algorithm': 'brute', 'n_neighbors': 18, 'wei...</td>\n      <td>1.0</td>\n      <td>0.975</td>\n      <td>1.0</td>\n      <td>1.0</td>\n      <td>0.925</td>\n      <td>1.0</td>\n      <td>0.974359</td>\n      <td>0.974359</td>\n      <td>1.0</td>\n      <td>1.0</td>\n      <td>0.984872</td>\n      <td>0.022970</td>\n      <td>1</td>\n    </tr>\n    <tr>\n      <th>96</th>\n      <td>0.001995</td>\n      <td>0.000441</td>\n      <td>0.003294</td>\n      <td>0.000643</td>\n      <td>kd_tree</td>\n      <td>18</td>\n      <td>uniform</td>\n      <td>{'algorithm': 'kd_tree', 'n_neighbors': 18, 'w...</td>\n      <td>1.0</td>\n      <td>0.975</td>\n      <td>1.0</td>\n      <td>1.0</td>\n      <td>0.925</td>\n      <td>1.0</td>\n      <td>0.974359</td>\n      <td>0.974359</td>\n      <td>1.0</td>\n      <td>1.0</td>\n      <td>0.984872</td>\n      <td>0.022970</td>\n      <td>1</td>\n    </tr>\n    <tr>\n      <th>162</th>\n      <td>0.000199</td>\n      <td>0.000399</td>\n      <td>0.002093</td>\n      <td>0.000296</td>\n      <td>brute</td>\n      <td>16</td>\n      <td>uniform</td>\n      <td>{'algorithm': 'brute', 'n_neighbors': 16, 'wei...</td>\n      <td>1.0</td>\n      <td>0.975</td>\n      <td>1.0</td>\n      <td>1.0</td>\n      <td>0.900</td>\n      <td>1.0</td>\n      <td>0.974359</td>\n      <td>0.974359</td>\n      <td>1.0</td>\n      <td>1.0</td>\n      <td>0.982372</td>\n      <td>0.029719</td>\n      <td>4</td>\n    </tr>\n    <tr>\n      <th>22</th>\n      <td>0.001712</td>\n      <td>0.000477</td>\n      <td>0.003502</td>\n      <td>0.000802</td>\n      <td>ball_tree</td>\n      <td>16</td>\n      <td>uniform</td>\n      <td>{'algorithm': 'ball_tree', 'n_neighbors': 16, ...</td>\n      <td>1.0</td>\n      <td>0.975</td>\n      <td>1.0</td>\n      <td>1.0</td>\n      <td>0.900</td>\n      <td>1.0</td>\n      <td>0.974359</td>\n      <td>0.974359</td>\n      <td>1.0</td>\n      <td>1.0</td>\n      <td>0.982372</td>\n      <td>0.029719</td>\n      <td>4</td>\n    </tr>\n  </tbody>\n</table>\n</div>"
     },
     "metadata": {},
     "execution_count": 18
    }
   ],
   "source": [
    "params = {\n",
    "    'n_neighbors' : range(5,40),\n",
    "    'weights' : ['uniform', 'distance'],\n",
    "    'algorithm' : ['ball_tree','kd_tree','brute']\n",
    "}\n",
    "grid = GridSearchCV(estimator = model, \n",
    "param_grid = params,\n",
    "cv = 10)\n",
    "grid.fit(x,y)\n",
    "results = pd.DataFrame(grid.cv_results_)\n",
    "results_sorted_by_mean_test_score = results.sort_values(\"mean_test_score\", ascending=False)\n",
    "results_sorted_by_mean_test_score.head()"
   ]
  },
  {
   "cell_type": "code",
   "execution_count": 29,
   "metadata": {},
   "outputs": [
    {
     "output_type": "stream",
     "name": "stdout",
     "text": "So, the interval of confiance of my model is [0.94, 1.00]\n"
    }
   ],
   "source": [
    "for index, row in results_sorted_by_mean_test_score.head(1).iterrows():\n",
    "  minimum = row.mean_test_score - (row.std_test_score * 2)\n",
    "  #maximum = row.mean_test_score + (row.std_test_score * 2) = 1.03\n",
    "  maximum = 1\n",
    "print(f'So, the interval of confiance of my model is [%.2f, %.2f]' % (minimum, maximum) )"
   ]
  },
  {
   "cell_type": "code",
   "execution_count": null,
   "metadata": {},
   "outputs": [],
   "source": []
  }
 ],
 "metadata": {
  "kernelspec": {
   "display_name": "Python 3.8.3 32-bit",
   "language": "python",
   "name": "python38332bit2539747805b14ab7ab5175e6a87e89fb"
  },
  "language_info": {
   "codemirror_mode": {
    "name": "ipython",
    "version": 3
   },
   "file_extension": ".py",
   "mimetype": "text/x-python",
   "name": "python",
   "nbconvert_exporter": "python",
   "pygments_lexer": "ipython3",
   "version": "3.8.3-final"
  }
 },
 "nbformat": 4,
 "nbformat_minor": 2
}